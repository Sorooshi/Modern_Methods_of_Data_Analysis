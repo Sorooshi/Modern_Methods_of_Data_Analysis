{
 "cells": [
  {
   "cell_type": "code",
   "execution_count": 78,
   "metadata": {},
   "outputs": [],
   "source": [
    "import warnings\n",
    "import numpy as np\n",
    "import pandas as pd\n",
    "import numpy.linalg as lg\n",
    "import seaborn as sbn\n",
    "from sklearn.linear_model import LinearRegression\n",
    "import matplotlib.pyplot as plt\n",
    "from matplotlib.backends.backend_pdf import PdfPages"
   ]
  },
  {
   "cell_type": "code",
   "execution_count": 51,
   "metadata": {},
   "outputs": [],
   "source": [
    "warnings.filterwarnings('ignore')\n",
    "np.set_printoptions(suppress=True, precision=3, linewidth=120)"
   ]
  },
  {
   "cell_type": "markdown",
   "metadata": {},
   "source": [
    "### Loading Data set"
   ]
  },
  {
   "cell_type": "code",
   "execution_count": 52,
   "metadata": {},
   "outputs": [
    {
     "name": "stdout",
     "output_type": "stream",
     "text": [
      "number of entities: 91 , number of features: 5\n"
     ]
    }
   ],
   "source": [
    "x_org = np.loadtxt(\"../data/rin.dat\")  #  data matrix\n",
    "\n",
    "print(\"number of entities:\", x_org.shape[0], \", number of features:\", x_org.shape[1])\n",
    "\n",
    "with open(\"../data/namrin\", 'r') as fp:  # load names as list of string\n",
    "    names_ = fp.readlines()\n",
    "\n",
    "with open(\"../data/varrin\", 'r') as fp:  # load features names as list of string\n",
    "    features_ = fp.readlines()"
   ]
  },
  {
   "cell_type": "markdown",
   "metadata": {},
   "source": [
    "### Creating Pandas DataFrame for Visualization\n"
   ]
  },
  {
   "cell_type": "code",
   "execution_count": 53,
   "metadata": {},
   "outputs": [
    {
     "data": {
      "text/html": [
       "<div>\n",
       "<style scoped>\n",
       "    .dataframe tbody tr th:only-of-type {\n",
       "        vertical-align: middle;\n",
       "    }\n",
       "\n",
       "    .dataframe tbody tr th {\n",
       "        vertical-align: top;\n",
       "    }\n",
       "\n",
       "    .dataframe thead th {\n",
       "        text-align: right;\n",
       "    }\n",
       "</style>\n",
       "<table border=\"1\" class=\"dataframe\">\n",
       "  <thead>\n",
       "    <tr style=\"text-align: right;\">\n",
       "      <th></th>\n",
       "      <th>'Internet abonents</th>\n",
       "      <th>'Personal abon.</th>\n",
       "      <th>'Company abon.</th>\n",
       "      <th>'Mobile Int. user</th>\n",
       "      <th>'Storage</th>\n",
       "    </tr>\n",
       "  </thead>\n",
       "  <tbody>\n",
       "    <tr>\n",
       "      <th>'Central'</th>\n",
       "      <td>212.316</td>\n",
       "      <td>199.597</td>\n",
       "      <td>12.719</td>\n",
       "      <td>838.953</td>\n",
       "      <td>231.933</td>\n",
       "    </tr>\n",
       "    <tr>\n",
       "      <th>'Belgorod'</th>\n",
       "      <td>248.517</td>\n",
       "      <td>236.956</td>\n",
       "      <td>11.558</td>\n",
       "      <td>963.444</td>\n",
       "      <td>361.539</td>\n",
       "    </tr>\n",
       "    <tr>\n",
       "      <th>'Bryansk'</th>\n",
       "      <td>192.963</td>\n",
       "      <td>178.115</td>\n",
       "      <td>14.848</td>\n",
       "      <td>717.172</td>\n",
       "      <td>174.693</td>\n",
       "    </tr>\n",
       "    <tr>\n",
       "      <th>'Vladimir'</th>\n",
       "      <td>155.780</td>\n",
       "      <td>145.530</td>\n",
       "      <td>10.250</td>\n",
       "      <td>649.882</td>\n",
       "      <td>202.636</td>\n",
       "    </tr>\n",
       "    <tr>\n",
       "      <th>'Voronezh'</th>\n",
       "      <td>193.378</td>\n",
       "      <td>181.890</td>\n",
       "      <td>11.489</td>\n",
       "      <td>680.391</td>\n",
       "      <td>247.181</td>\n",
       "    </tr>\n",
       "  </tbody>\n",
       "</table>\n",
       "</div>"
      ],
      "text/plain": [
       "            'Internet abonents  'Personal abon.  'Company abon.  \\\n",
       "'Central'              212.316          199.597          12.719   \n",
       "'Belgorod'             248.517          236.956          11.558   \n",
       "'Bryansk'              192.963          178.115          14.848   \n",
       "'Vladimir'             155.780          145.530          10.250   \n",
       "'Voronezh'             193.378          181.890          11.489   \n",
       "\n",
       "            'Mobile Int. user  'Storage  \n",
       "'Central'             838.953   231.933  \n",
       "'Belgorod'            963.444   361.539  \n",
       "'Bryansk'             717.172   174.693  \n",
       "'Vladimir'            649.882   202.636  \n",
       "'Voronezh'            680.391   247.181  "
      ]
     },
     "execution_count": 53,
     "metadata": {},
     "output_type": "execute_result"
    }
   ],
   "source": [
    "names = [name.strip() for name in names_]\n",
    "features = [feature.strip().split(\",\")[0] for feature in features_]\n",
    "# features\n",
    "\n",
    "df = pd.DataFrame(data=x_org, columns=features[:-1], index=names[1:])\n",
    "df.head()"
   ]
  },
  {
   "cell_type": "code",
   "execution_count": 54,
   "metadata": {},
   "outputs": [],
   "source": [
    "def standardizer(x):\n",
    "    \n",
    "    \"\"\"\n",
    "        standardize entity-to-feature data matrix by \n",
    "          applying Z-scoring, Range standardization and Rank methods\n",
    "        \n",
    "        Arguments: \n",
    "            x, numpy array, entity-to-feature data matrix\n",
    "        Returns:\n",
    "            Z-scored and Range standardized data matrices, x_zscore, x_range, x_rank.\n",
    "    \"\"\"\n",
    "    \n",
    "    x_ave = np.mean(x, axis=0)\n",
    "    x_min = np.min(x, axis=0)\n",
    "    x_rng = np.ptp(x, axis=0)\n",
    "    x_std = np.std(x, axis=0)\n",
    "    x_zscore = np.divide(np.subtract(x, x_ave), x_std)   # Z-scoring standardization\n",
    "    x_range = np.divide(np.subtract(x, x_ave), x_rng)  # Range standardization \n",
    "    x_rank = np.divide(np.subtract(x, x_min), x_rng) # Rank standardization \n",
    "    return x_zscore, x_range, x_rank\n"
   ]
  },
  {
   "cell_type": "code",
   "execution_count": 55,
   "metadata": {},
   "outputs": [],
   "source": [
    "def singular_decomposition(x):\n",
    "    z, mu, c = np.linalg.svd(x, full_matrices=True)  \n",
    "    z = -z\n",
    "    c = -c \n",
    "    mu_arg_max = np.argmax(mu)\n",
    "#     print(\"Shape: \", z.shape, mu.shape, c.shape)\n",
    "#     print(\"mu:\", mu)\n",
    "#     print(\"loadings:\", )\n",
    "#     print(c)\n",
    "#     print(\" \")\n",
    "    \n",
    "    n_contributions = np.power(mu, 2)\n",
    "    ds = np.sum(np.power(x, 2))  # Data Scatter\n",
    "\n",
    "    # Determine contributions of all the principal components to the data scatter \n",
    "    p_contributions = np.divide(n_contributions, ds)\n",
    "#     print(\"natural contributions:\", n_contributions)\n",
    "#     print(\"percent contributions:\", 100*p_contributions)\n",
    "    \n",
    "    return z, mu, c, ds, n_contributions, p_contributions, mu_arg_max"
   ]
  },
  {
   "cell_type": "markdown",
   "metadata": {},
   "source": [
    "#### Part 1\n",
    "\n",
    "- In your data set, select a subset of 3-6 features related to the same aspect and explain your choice:\n",
    "\n",
    "\n",
    "Explanation: Except for the last feature in which it has a weak correlations with the other features, I keep the four remaining features."
   ]
  },
  {
   "cell_type": "code",
   "execution_count": 79,
   "metadata": {},
   "outputs": [
    {
     "data": {
      "text/plain": [
       "(91, 4)"
      ]
     },
     "execution_count": 79,
     "metadata": {},
     "output_type": "execute_result"
    }
   ],
   "source": [
    "x_selected = x_org[:, :4]  # selected set of features\n",
    "x_selected.shape"
   ]
  },
  {
   "cell_type": "markdown",
   "metadata": {},
   "source": [
    "#### Part 2:\n",
    "- Standardize the selected subset;\n",
    "- Compute its data scatter and SVD;\n",
    "- Determine contributions of all the principal components\n",
    "to the data scatter, naturally and per cent"
   ]
  },
  {
   "cell_type": "code",
   "execution_count": 57,
   "metadata": {},
   "outputs": [],
   "source": [
    "# x_selected = np.array([[41, 66, 90], [57, 56, 60], [61, 72, 79], [69, 73, 72], [63, 52, 88], [62, 83, 80]])"
   ]
  },
  {
   "cell_type": "code",
   "execution_count": 58,
   "metadata": {},
   "outputs": [],
   "source": [
    "x_zscore, x_range, x_rank = standardizer(x=x_selected)"
   ]
  },
  {
   "cell_type": "code",
   "execution_count": 80,
   "metadata": {},
   "outputs": [],
   "source": [
    "# Singular decomposition on original data \n",
    "z_x, mu_x, c_x, ds_x, n_contributions_x, p_contributions_x, mu_argmax_x = \\\n",
    "singular_decomposition(x=x_selected)"
   ]
  },
  {
   "cell_type": "code",
   "execution_count": 81,
   "metadata": {},
   "outputs": [],
   "source": [
    "# Singular decomposition on Z-Scored standardized data\n",
    "z_x_zscore, mu_x_zscore, c_x_zscore, ds_x_zscore,\\\n",
    "n_contributions_x_zscore, p_contributions_x_zscore, mu_argmax_x_zscore  = \\\n",
    "singular_decomposition(x=x_zscore)"
   ]
  },
  {
   "cell_type": "code",
   "execution_count": 82,
   "metadata": {},
   "outputs": [],
   "source": [
    "# Singular decomposition on Range standardized data\n",
    "z_x_range, mu_x_range, c_x_range, ds_x_range,\\\n",
    "n_contributions_x_range, p_contributions_x_range,mu_argmax_x_range = \\\n",
    "singular_decomposition(x=x_range)"
   ]
  },
  {
   "cell_type": "code",
   "execution_count": 83,
   "metadata": {},
   "outputs": [],
   "source": [
    "# Singular decomposition on Rank standardized data\n",
    "z_x_rank, mu_x_rank, c_x_rank, ds_x_rank,\\\n",
    "n_contributions_x_rank, p_contributions_x_rank, mu_argmax_x_rank = \\\n",
    "singular_decomposition(x=x_rank)"
   ]
  },
  {
   "cell_type": "code",
   "execution_count": 85,
   "metadata": {},
   "outputs": [
    {
     "name": "stdout",
     "output_type": "stream",
     "text": [
      "Natural contributions of \n",
      " Original data       : [61732346.585   520959.304     2660.014        1.224] \n",
      " Ranked std data     : [83.69   1.632  0.742  0.   ] \n",
      " Ranged std data     : [7.628 1.18  0.637 0.   ] \n",
      " Z-Scored std data   : [267.149  58.957  37.894   0.   ]\n"
     ]
    }
   ],
   "source": [
    "print(\"Natural contributions of \\n\",\n",
    "      \"Original data       :\", n_contributions_x, \"\\n\",\n",
    "      \"Ranked std data     :\", n_contributions_x_rank, \"\\n\",\n",
    "      \"Ranged std data     :\", n_contributions_x_range, \"\\n\",\n",
    "      \"Z-Scored std data   :\", n_contributions_x_zscore,)"
   ]
  },
  {
   "cell_type": "markdown",
   "metadata": {},
   "source": [
    "- Notice the differences in the values w.r.t different pre-processing methods\n",
    "- The first component always contribute to the most"
   ]
  },
  {
   "cell_type": "code",
   "execution_count": 87,
   "metadata": {},
   "outputs": [
    {
     "name": "stdout",
     "output_type": "stream",
     "text": [
      "Percent contributions of \n",
      " Original data       : [99.159  0.837  0.004  0.   ] \n",
      " Ranked std data     : [97.241  1.896  0.863  0.   ] \n",
      " Ranged std data     : [80.761 12.497  6.741  0.   ] \n",
      " Z-Scored std data   : [73.393 16.197 10.41   0.   ]\n"
     ]
    }
   ],
   "source": [
    "print(\"Percent contributions of \\n\",\n",
    "      \"Original data       :\", 100*p_contributions_x, \"\\n\",\n",
    "      \"Ranked std data     :\", 100*p_contributions_x_rank, \"\\n\",\n",
    "      \"Ranged std data     :\", 100*p_contributions_x_range, \"\\n\",\n",
    "      \"Z-Scored std data   :\", 100*p_contributions_x_zscore,)"
   ]
  },
  {
   "cell_type": "markdown",
   "metadata": {},
   "source": [
    "- Considering ranked standardized data [97.241  1.896  0.863  0.   ] : \n",
    "    - First component contribution is equal to 97.2% \n",
    "    - Second component contribution is  equal to 1.9% \n",
    "\n",
    "    "
   ]
  },
  {
   "cell_type": "code",
   "execution_count": 90,
   "metadata": {},
   "outputs": [
    {
     "name": "stdout",
     "output_type": "stream",
     "text": [
      "loadings of 1st component \n",
      " Original data       : [0.232 0.217 0.015 0.948] \n",
      " Rank std data     : [0.573 0.568 0.255 0.532] \n",
      " Range std data     : [0.646 0.634 0.323 0.277] \n",
      " Z-Score std data   : [0.554 0.542 0.479 0.412]\n"
     ]
    }
   ],
   "source": [
    "print(\"loadings of 1st component \\n\",\n",
    "      \"Original data       :\", c_x[mu_argmax_x, :], \"\\n\",\n",
    "      \"Rank std data     :\", c_x_rank[mu_argmax_x_rank, :], \"\\n\",\n",
    "      \"Range std data     :\", c_x_range[mu_argmax_x_range, :], \"\\n\",\n",
    "      \"Z-Score std data   :\", c_x_zscore[mu_argmax_x_zscore, :],)"
   ]
  },
  {
   "cell_type": "markdown",
   "metadata": {},
   "source": [
    "- Considering ranked standardized data:  c1 = [ 0.573  0.568  0.255   0.532]\n",
    "    - interpretation: all loadings are positive and more or less equal to each other except for c2 = 0.255. Meaning the factor expresses the level of internetization of regions.\n",
    "\n",
    "\n",
    "- np.linagl.svd produces the eigenvectors in rows, not columns."
   ]
  },
  {
   "cell_type": "markdown",
   "metadata": {},
   "source": [
    "#### Part 3\n",
    "\n",
    "- Compute and interpret a hidden ranking factor behind the selected features. The factor should be expressed in a 0-100 rank scale (as well as the features – ranking normalization)."
   ]
  },
  {
   "cell_type": "markdown",
   "metadata": {},
   "source": [
    "To scale to 0-100, one needs to find $\\alpha$ using the following Eqn.\n",
    "\n",
    "$ z_{1} = \\alpha \\times( 100*c_{1,1} + ... + 100 \\times 1*c_{1,v}) $ \n",
    "\n",
    "\n",
    "By assigning 100 to $z_{1}$ we have:\n",
    "\n",
    "$\\alpha = \\frac{100}{\\sum_{i=1}^{V} c_{1,i}}$\n",
    "\n",
    "Where $V$ is the number of features"
   ]
  },
  {
   "cell_type": "code",
   "execution_count": 93,
   "metadata": {},
   "outputs": [],
   "source": [
    "def part_3(x, z, c, mu, argmax):    \n",
    "    z1 = z[:, argmax]  # hiden score\n",
    "    c1 = c[argmax, :]  # loading\n",
    "    mu1 = mu[argmax] \n",
    "    print(\"c1             :\", c1)\n",
    "    alpha = 1/np.sum(c1)\n",
    "    loading = c1*alpha  \n",
    "    print(\"Loading        :\", loading)\n",
    "    ranking_factors = 100*x@(loading)  # ranking factors\n",
    "#     print(\"ranking_factors shape:\", ranking_factors.shape)\n",
    "    arg_top5 = np.argsort(ranking_factors)[::-1][:5]\n",
    "    top_5 = np.sort(ranking_factors,)[::-1][:5]\n",
    "    \n",
    "    print(\"Top5 regions:\", top_5)\n",
    "    return loading, ranking_factors, arg_top5\n"
   ]
  },
  {
   "cell_type": "code",
   "execution_count": 94,
   "metadata": {},
   "outputs": [],
   "source": [
    "# Original data\n",
    "# _, _, _ = part_3(x=x_selected, z=z_x, c=c_x, mu=mu_x, argmax=mu_argmax_x)"
   ]
  },
  {
   "cell_type": "code",
   "execution_count": 109,
   "metadata": {},
   "outputs": [
    {
     "name": "stdout",
     "output_type": "stream",
     "text": [
      "c1             : [0.573 0.568 0.255 0.532]\n",
      "Loading        : [0.297 0.295 0.132 0.276]\n",
      "Top5 regions: [95.199 83.76  79.595 68.136 65.653]\n"
     ]
    }
   ],
   "source": [
    "# Rank standardized :\n",
    "_, _, arg_top5 =\\\n",
    "part_3(x=x_rank, z=z_x_rank, c=c_x_rank, mu=mu_x_rank, argmax=mu_argmax_x_rank)"
   ]
  },
  {
   "cell_type": "code",
   "execution_count": 97,
   "metadata": {},
   "outputs": [
    {
     "name": "stdout",
     "output_type": "stream",
     "text": [
      "'Spetersburg'\n",
      "'Moscow_City'\n",
      "'Novosibirsk'\n",
      "'Karelia'\n",
      "'Tumen'\n"
     ]
    }
   ],
   "source": [
    "for i in arg_top5:\n",
    "    print(names[i])"
   ]
  },
  {
   "cell_type": "markdown",
   "metadata": {},
   "source": [
    "- This shows that there is no perfect region.( Becuase the maximum value of all ranking factor is not 100%)\n",
    "- And moreover, Spetersburg is best internet performer.\n",
    "- "
   ]
  },
  {
   "cell_type": "code",
   "execution_count": null,
   "metadata": {},
   "outputs": [],
   "source": [
    "# Rank standardized :\n",
    "_, _, arg_top5 =\\\n",
    "part_3(x=x_zscore, z=z_x_zscore, c=c_x_zscore, mu=mu_x_zscore, argmax=mu_argmax_x_rank)"
   ]
  },
  {
   "cell_type": "markdown",
   "metadata": {},
   "source": [
    "#### Part 4:\n",
    "\n",
    "Visualize the data using two first principal components at the\n",
    "standardization with two versions of standardization: \n",
    "- (a) range standardization\n",
    "- (b) z-scoring"
   ]
  },
  {
   "cell_type": "code",
   "execution_count": 98,
   "metadata": {},
   "outputs": [
    {
     "name": "stdout",
     "output_type": "stream",
     "text": [
      "[ 1 14 19 20 21 27 30 78 83]\n"
     ]
    }
   ],
   "source": [
    "subset = np.where(x_org[:, -1] >= 300.)[0] \n",
    "print(subset)"
   ]
  },
  {
   "cell_type": "code",
   "execution_count": 110,
   "metadata": {},
   "outputs": [
    {
     "data": {
      "image/png": "[encoded data removed]",
      "text/plain": [
       "<Figure size 612x684 with 2 Axes>"
      ]
     },
     "metadata": {
      "needs_background": "light"
     },
     "output_type": "display_data"
    }
   ],
   "source": [
    "z_z0 = z_x_zscore[:, 0]*np.sqrt(mu_x_zscore[0])\n",
    "z_z1 = z_x_zscore[:, 1]*np.sqrt(mu_x_zscore[1])\n",
    "\n",
    "z_r0 = z_x_range[:, 0]*np.sqrt(mu_x_range[0])\n",
    "z_r1 = z_x_range[:, 1]*np.sqrt(mu_x_range[1])\n",
    "fig = plt.figure(figsize=(8.5, 9.5))\n",
    "\n",
    "ax = fig.add_subplot(121)\n",
    "ax.scatter(z_z0, z_z1)\n",
    "ax.scatter(z_z0[subset], z_z1[subset], c='r',)\n",
    "plt.title(\"PCA of Z-scoring standardized data\")\n",
    "\n",
    "ax = fig.add_subplot(122)\n",
    "ax.scatter(z_r0, z_r1)\n",
    "ax.scatter(z_r0[subset], z_r1[subset], c='r',)\n",
    "\n",
    "plt.title(\"PCA of Range standardatized data\")\n",
    "plt.show()"
   ]
  },
  {
   "cell_type": "markdown",
   "metadata": {},
   "source": [
    "- These red points are scattered over the second component. But more or less correspond to higher values of the first component.\n",
    "\n",
    "- As one can see the difference is only in the scaling of these two figures"
   ]
  },
  {
   "cell_type": "code",
   "execution_count": 115,
   "metadata": {},
   "outputs": [
    {
     "data": {
      "text/plain": [
       "array([[ 0.554,  0.542,  0.479,  0.412],\n",
       "       [-0.365, -0.404,  0.173,  0.821],\n",
       "       [-0.18 , -0.274,  0.858, -0.396]])"
      ]
     },
     "execution_count": 115,
     "metadata": {},
     "output_type": "execute_result"
    }
   ],
   "source": [
    "# Loadings:\n",
    "c_x_zscore[:3, :]"
   ]
  },
  {
   "cell_type": "markdown",
   "metadata": {},
   "source": [
    "- Interpretations should go here"
   ]
  },
  {
   "cell_type": "markdown",
   "metadata": {},
   "source": [
    "#### Conventional PCA\n"
   ]
  },
  {
   "cell_type": "code",
   "execution_count": 104,
   "metadata": {},
   "outputs": [],
   "source": [
    "def conventional_pca(X, standardized=False):    \n",
    "    # Let us name x as original data set, \n",
    "    # restricted at selected subset of features, i.e. x_selected.\n",
    "    if standardized is False:\n",
    "        mean_x = np.mean(X, axis=0)\n",
    "        Y = np.subtract(X, mean_x)  # centered version\n",
    "        B = (Y.T@Y)/Y.shape[0]  # covariance matrix of Y\n",
    "        L, C = np.linalg.eig(B)  # Eigenvalues \n",
    "        sorted_idx = np.argsort(L)[::-1]  # descending order\n",
    "        la1 = L[sorted_idx[0]]\n",
    "        c1 = C[:, sorted_idx[0]]  # unlike np.linalg.svd now we should consider the column\n",
    "        pc1 = np.divide(Y@c1, np.sqrt(Y.shape[0]*la1))  # 1st principle component    \n",
    "        B_dot = B - la1*np.multiply(c1, c1.T)  # Residual of Cov.\n",
    "        L_, C_ = np.linalg.eig(B_dot)\n",
    "        argmax_ = np.argmax(L_)\n",
    "        la2 = L_[argmax_]\n",
    "        c2 = C_[:, argmax_]\n",
    "        pc2 = np.divide(Y@c2, np.sqrt(Y.shape[0]*la2))  # 2nd principle component \n",
    "    else:\n",
    "        Y = X\n",
    "        B = (Y.T@Y)/Y.shape[0]  # covariance matrix of Y\n",
    "        L, C = np.linalg.eig(B)\n",
    "        sorted_idx = np.argsort(L)[::-1]  # descending order\n",
    "        la1 = L[sorted_idx[0]]\n",
    "        c1 = C[:, sorted_idx[0]]  # unlike np.linalg.svd now we should consider the column\n",
    "        pc1 = np.divide(Y@c1, np.sqrt(Y.shape[0]*la1))  # 1st principle component    \n",
    "        la2 = L[sorted_idx[1]]\n",
    "        c2 = -C[:, sorted_idx[1]]  # unlike np.linalg.svd now we should consider the column\n",
    "        pc2 = np.divide(Y@c2, np.sqrt(Y.shape[0]*la2))  # 2nd principle component \n",
    "    \n",
    "    return pc1, pc2"
   ]
  },
  {
   "cell_type": "code",
   "execution_count": 105,
   "metadata": {},
   "outputs": [],
   "source": [
    "pc1_x, pc2_x = conventional_pca(X=x_selected, standardized=False)"
   ]
  },
  {
   "cell_type": "code",
   "execution_count": 101,
   "metadata": {},
   "outputs": [],
   "source": [
    "pc1_x_z, pc2_x_z = conventional_pca(X=x_zscore, standardized=True)"
   ]
  },
  {
   "cell_type": "code",
   "execution_count": 102,
   "metadata": {},
   "outputs": [],
   "source": [
    "from sklearn.decomposition import PCA\n",
    "pca = PCA(n_components=2)\n",
    "pcas = pca.fit_transform(x_zscore)\n",
    "pc1, pc2 = pcas[:, 0], pcas[:, 1]"
   ]
  },
  {
   "cell_type": "markdown",
   "metadata": {},
   "source": [
    "### Putting all together"
   ]
  },
  {
   "cell_type": "code",
   "execution_count": 108,
   "metadata": {},
   "outputs": [
    {
     "data": {
      "image/png": "[encoded data removed]",
      "text/plain": [
       "<Figure size 1404x756 with 5 Axes>"
      ]
     },
     "metadata": {
      "needs_background": "light"
     },
     "output_type": "display_data"
    }
   ],
   "source": [
    "fig = plt.figure(figsize=(19.5, 10.5))\n",
    "\n",
    "ax = fig.add_subplot(151)\n",
    "ax.scatter(z_z0, z_z1)\n",
    "ax.scatter(z_z0[subset], z_z1[subset], c='r',)\n",
    "plt.title(\"PCA of Z-scoring data(SVD)\")\n",
    "\n",
    "ax = fig.add_subplot(152)\n",
    "plt.scatter(z_r0, z_r1)\n",
    "ax.scatter(z_r0[subset], z_r1[subset], c='r',)\n",
    "plt.title(\"PCA of Range data(SVD)\")\n",
    "\n",
    "ax = fig.add_subplot(153)\n",
    "ax.scatter(pc1_x, pc2_x)\n",
    "ax.scatter(pc1_x[subset], pc2_x[subset], c='r',)\n",
    "plt.title(\"Conventional PCA of not standardized data\")\n",
    "\n",
    "ax = fig.add_subplot(154)\n",
    "ax.scatter(pc1_x_z, pc2_x_z)\n",
    "ax.scatter(pc1_x_z[subset], pc2_x_z[subset], c='r',)\n",
    "plt.title(\"Conventional PCA of Z-scored\")\n",
    "\n",
    "ax = fig.add_subplot(155)\n",
    "ax.scatter(pc1, pc2)\n",
    "ax.scatter(pc1[subset], pc2[subset], c='r',)\n",
    "plt.title(\"Output of Sklearn\")\n",
    "\n",
    "plt.show()\n",
    "\n"
   ]
  },
  {
   "cell_type": "markdown",
   "metadata": {},
   "source": [
    "- For all Z-scored data, i.e 1st, 4th, 5th panes, PCA plots are indeed similar\n",
    "- Note the subtle difference between 3rd and 4th panes, the difference mostly comes from the range data, plus symmetry over X axis."
   ]
  },
  {
   "cell_type": "code",
   "execution_count": null,
   "metadata": {},
   "outputs": [],
   "source": []
  },
  {
   "cell_type": "code",
   "execution_count": 77,
   "metadata": {},
   "outputs": [],
   "source": [
    "# fig = plt.figure(figsize=(19.5, 10.5))\n",
    "\n",
    "# ax = fig.add_subplot(141)\n",
    "# ax.scatter(z_z0, z_z1)\n",
    "# ax.scatter(z_z0[subset], z_z1[subset], c='r',)\n",
    "# plt.title(\"PCA of Z-scoring standardized data(SVD)\")\n",
    "\n",
    "# ax = fig.add_subplot(142)\n",
    "# plt.scatter(z_r0, z_r1)\n",
    "# ax.scatter(z_r0[subset], z_r1[subset], c='r',)\n",
    "# plt.title(\"PCA of range standardatized data(SVD)\")\n",
    "\n",
    "# ax = fig.add_subplot(143)\n",
    "# ax.scatter(pc1_x, pc2_x)\n",
    "# ax.scatter(pc1_x[subset], pc2_x[subset], c='r',)\n",
    "# plt.title(\"Conventional PCA\")\n",
    "\n",
    "# ax = fig.add_subplot(144)\n",
    "# ax.scatter(pc1_x_z, pc2_x_z)\n",
    "# ax.scatter(pc1_x_z[subset], pc2_x_z[subset], c='r',)\n",
    "# plt.title(\"Conventional PCA of Z-scored Data\")\n",
    "\n",
    "\n",
    "# plt.show()\n",
    "\n"
   ]
  },
  {
   "cell_type": "code",
   "execution_count": null,
   "metadata": {},
   "outputs": [],
   "source": []
  },
  {
   "cell_type": "code",
   "execution_count": null,
   "metadata": {},
   "outputs": [],
   "source": []
  },
  {
   "cell_type": "code",
   "execution_count": null,
   "metadata": {},
   "outputs": [],
   "source": []
  },
  {
   "cell_type": "code",
   "execution_count": null,
   "metadata": {},
   "outputs": [],
   "source": []
  },
  {
   "cell_type": "code",
   "execution_count": null,
   "metadata": {},
   "outputs": [],
   "source": []
  },
  {
   "cell_type": "code",
   "execution_count": null,
   "metadata": {},
   "outputs": [],
   "source": []
  }
 ],
 "metadata": {
  "celltoolbar": "Raw Cell Format",
  "kernelspec": {
   "display_name": "tfGvenv",
   "language": "python",
   "name": "tfgvenv"
  },
  "language_info": {
   "codemirror_mode": {
    "name": "ipython",
    "version": 3
   },
   "file_extension": ".py",
   "mimetype": "text/x-python",
   "name": "python",
   "nbconvert_exporter": "python",
   "pygments_lexer": "ipython3",
   "version": "3.7.9"
  },
  "widgets": {
   "application/vnd.jupyter.widget-state+json": {
    "state": {},
    "version_major": 1,
    "version_minor": 0
   }
  }
 },
 "nbformat": 4,
 "nbformat_minor": 2
}
