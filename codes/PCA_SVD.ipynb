{
 "cells": [
  {
   "cell_type": "code",
   "execution_count": 29,
   "metadata": {},
   "outputs": [],
   "source": [
    "import warnings\n",
    "import numpy as np\n",
    "import pandas as pd\n",
    "import numpy.linalg as lg\n",
    "import seaborn as sbn\n",
    "from sklearn.linear_model import LinearRegression\n",
    "import matplotlib.pyplot as plt\n",
    "from matplotlib.backends.backend_pdf import PdfPages"
   ]
  },
  {
   "cell_type": "code",
   "execution_count": 2,
   "metadata": {},
   "outputs": [],
   "source": [
    "warnings.filterwarnings('ignore')\n",
    "np.set_printoptions(suppress=True, precision=4, linewidth=250)"
   ]
  },
  {
   "cell_type": "code",
   "execution_count": 3,
   "metadata": {},
   "outputs": [],
   "source": [
    "def standardizer(x):\n",
    "    \n",
    "    \"\"\"\n",
    "        standardize entity-to-feature data matrix by \n",
    "          applying Z-scoring and Range standardization methods\n",
    "        \n",
    "        Arguments: \n",
    "            x, numpy array, entity-to-feature data matrix\n",
    "        \n",
    "        Returns:\n",
    "            Z-scored and Range standardized data matrices\n",
    "    \"\"\"\n",
    "    \n",
    "    x_ave = np.mean(x, axis=0)\n",
    "    x_rng = np.ptp(x, axis=0)\n",
    "    x_std = np.std(x, axis=0)\n",
    "    x_zscr_std = np.divide(np.subtract(x, x_ave), x_std)   # Z-scoring standardization\n",
    "    x_rng_std = np.divide(np.subtract(x, x_ave), x_rng)  # Range standardization \n",
    "    return x_zscr_std, x_rng_std\n"
   ]
  },
  {
   "cell_type": "markdown",
   "metadata": {},
   "source": [
    "### Loading Data set"
   ]
  },
  {
   "cell_type": "code",
   "execution_count": 4,
   "metadata": {},
   "outputs": [
    {
     "name": "stdout",
     "output_type": "stream",
     "text": [
      "number of entities: 91 , number of features: 5\n"
     ]
    }
   ],
   "source": [
    "x_org = np.loadtxt(\"../data/rin.dat\")  #  data matrix\n",
    "\n",
    "print(\"number of entities:\", x_org.shape[0], \", number of features:\", x_org.shape[1])\n",
    "\n",
    "with open(\"../data/namrin\", 'r') as fp:  # load names as list of string\n",
    "    names_ = fp.readlines()\n",
    "\n",
    "with open(\"../data/varrin\", 'r') as fp:  # load features names as list of string\n",
    "    features_ = fp.readlines()"
   ]
  },
  {
   "cell_type": "markdown",
   "metadata": {},
   "source": [
    "### Creating Pandas DataFrame for Visualization\n"
   ]
  },
  {
   "cell_type": "code",
   "execution_count": 5,
   "metadata": {},
   "outputs": [],
   "source": [
    "names = [name.strip() for name in names_]\n",
    "features = [feature.strip().split(\",\")[0] for feature in features_]\n",
    "# features"
   ]
  },
  {
   "cell_type": "code",
   "execution_count": 6,
   "metadata": {},
   "outputs": [
    {
     "data": {
      "text/html": [
       "<div>\n",
       "<style scoped>\n",
       "    .dataframe tbody tr th:only-of-type {\n",
       "        vertical-align: middle;\n",
       "    }\n",
       "\n",
       "    .dataframe tbody tr th {\n",
       "        vertical-align: top;\n",
       "    }\n",
       "\n",
       "    .dataframe thead th {\n",
       "        text-align: right;\n",
       "    }\n",
       "</style>\n",
       "<table border=\"1\" class=\"dataframe\">\n",
       "  <thead>\n",
       "    <tr style=\"text-align: right;\">\n",
       "      <th></th>\n",
       "      <th>'Internet abonents</th>\n",
       "      <th>'Personal abon.</th>\n",
       "      <th>'Company abon.</th>\n",
       "      <th>'Mobile Int. user</th>\n",
       "      <th>'Volume of information</th>\n",
       "    </tr>\n",
       "  </thead>\n",
       "  <tbody>\n",
       "    <tr>\n",
       "      <th>'Central'</th>\n",
       "      <td>212.316</td>\n",
       "      <td>199.597</td>\n",
       "      <td>12.719</td>\n",
       "      <td>838.953</td>\n",
       "      <td>231.933</td>\n",
       "    </tr>\n",
       "    <tr>\n",
       "      <th>'Belgorod'</th>\n",
       "      <td>248.517</td>\n",
       "      <td>236.956</td>\n",
       "      <td>11.558</td>\n",
       "      <td>963.444</td>\n",
       "      <td>361.539</td>\n",
       "    </tr>\n",
       "    <tr>\n",
       "      <th>'Bryansk'</th>\n",
       "      <td>192.963</td>\n",
       "      <td>178.115</td>\n",
       "      <td>14.848</td>\n",
       "      <td>717.172</td>\n",
       "      <td>174.693</td>\n",
       "    </tr>\n",
       "    <tr>\n",
       "      <th>'Vladimir'</th>\n",
       "      <td>155.780</td>\n",
       "      <td>145.530</td>\n",
       "      <td>10.250</td>\n",
       "      <td>649.882</td>\n",
       "      <td>202.636</td>\n",
       "    </tr>\n",
       "    <tr>\n",
       "      <th>'Voronezh'</th>\n",
       "      <td>193.378</td>\n",
       "      <td>181.890</td>\n",
       "      <td>11.489</td>\n",
       "      <td>680.391</td>\n",
       "      <td>247.181</td>\n",
       "    </tr>\n",
       "  </tbody>\n",
       "</table>\n",
       "</div>"
      ],
      "text/plain": [
       "            'Internet abonents  'Personal abon.  'Company abon.  \\\n",
       "'Central'              212.316          199.597          12.719   \n",
       "'Belgorod'             248.517          236.956          11.558   \n",
       "'Bryansk'              192.963          178.115          14.848   \n",
       "'Vladimir'             155.780          145.530          10.250   \n",
       "'Voronezh'             193.378          181.890          11.489   \n",
       "\n",
       "            'Mobile Int. user  'Volume of information  \n",
       "'Central'             838.953                 231.933  \n",
       "'Belgorod'            963.444                 361.539  \n",
       "'Bryansk'             717.172                 174.693  \n",
       "'Vladimir'            649.882                 202.636  \n",
       "'Voronezh'            680.391                 247.181  "
      ]
     },
     "execution_count": 6,
     "metadata": {},
     "output_type": "execute_result"
    }
   ],
   "source": [
    "df = pd.DataFrame(data=x_org, columns=features[:-1], index=names[1:])\n",
    "df.head()"
   ]
  },
  {
   "cell_type": "markdown",
   "metadata": {},
   "source": [
    "#### Part 1\n",
    "- In your data set, select a subset of 3-6 features related to the same aspect and explain your choice:\n",
    "\n",
    "\n",
    "\n",
    "Answer: Except the last feature, volume of info, which is the sum of all feature, we use all the remaining four features.\n",
    "\n",
    "\n"
   ]
  },
  {
   "cell_type": "markdown",
   "metadata": {},
   "source": [
    "#### Part 2:\n",
    "- Standardize the selected subset;\n",
    "- Compute its data scatter and SVD;\n",
    "- Determine contributions of all the principal components\n",
    "to the data scatter, naturally and per cent"
   ]
  },
  {
   "cell_type": "code",
   "execution_count": 16,
   "metadata": {},
   "outputs": [],
   "source": [
    "x_sel = x_org[:, :4]  # selected set of features\n",
    "max_x = np.max(x_sel) \n",
    "min_x = np.min(x_sel)\n",
    "rng_x = np.ptp(x_sel, axis=0)\n",
    "x_standard = np.divide(np.subtract(x_sel, min_x), max_x)*100"
   ]
  },
  {
   "cell_type": "code",
   "execution_count": 17,
   "metadata": {},
   "outputs": [
    {
     "name": "stdout",
     "output_type": "stream",
     "text": [
      "Orginal shape:  (91, 91) (4,) (4, 4)\n",
      "loading:\n",
      "[[-0.2321 -0.2175 -0.0146 -0.948 ]\n",
      " [ 0.6842  0.6555  0.0285 -0.3184]\n",
      " [-0.3744  0.4294 -0.8218  0.0059]\n",
      " [ 0.5812 -0.5819 -0.5688 -0.    ]]\n"
     ]
    }
   ],
   "source": [
    "z, mu, c = np.linalg.svd(x_standard, full_matrices=True)  # u, s, vh\n",
    "print(\"Orginal shape: \", z.shape, mu.shape, c.shape)\n",
    "\n",
    "# z_cent, mu_cent, c_cent = np.linalg.svd(x_cent, full_matrices=True)  # u, s, vh\n",
    "# print(\"Centered shape:\", z_cent.shape, mu_cent.shape, c_cent.shape)\n",
    "print(\"loading:\", )\n",
    "print(c)"
   ]
  },
  {
   "cell_type": "code",
   "execution_count": 18,
   "metadata": {},
   "outputs": [
    {
     "name": "stdout",
     "output_type": "stream",
     "text": [
      "natural contributions: [276437.5825   2332.8569     11.9115      0.0055]\n",
      "percent contributions: [99.1589  0.8368  0.0043  0.    ]\n"
     ]
    }
   ],
   "source": [
    "# Contribution of all components for original data \n",
    "mu_sqr = np.power(mu, 2)\n",
    "data_scatter = np.sum(np.power(x_standard, 2))  # Data Scatter\n",
    "\n",
    "# Determine contributions of all the principal components to the data scatter (not centered)\n",
    "contributions_org = np.divide(mu_sqr, data_scatter)\n",
    "print(\"natural contributions:\", mu_sqr)\n",
    "print(\"percent contributions:\", 100*contributions_org)"
   ]
  },
  {
   "cell_type": "markdown",
   "metadata": {},
   "source": [
    "The first component contributes ~99.1%, the second one contributes less 1.% while the remaining components do not contribute at all"
   ]
  },
  {
   "cell_type": "markdown",
   "metadata": {},
   "source": [
    "#### Part 3\n",
    "\n",
    "Compute and interpret a hidden ranking factor behind the selected features. The factor should be expressed in a 0-100 rank scale (as well as the features – ranking normalization)."
   ]
  },
  {
   "cell_type": "code",
   "execution_count": 19,
   "metadata": {},
   "outputs": [
    {
     "name": "stdout",
     "output_type": "stream",
     "text": [
      "c1: [ 0.2321 -0.6842  0.3744 -0.5812]\n"
     ]
    }
   ],
   "source": [
    "idx_max =  np.argmax(mu_sqr)\n",
    "z1 = -z[:, idx_max]  # hiden score\n",
    "c1 = -c[:, idx_max]  # loading\n",
    "mu1 = mu[idx_max] \n",
    "print(\"c1:\", c1)"
   ]
  },
  {
   "cell_type": "markdown",
   "metadata": {},
   "source": [
    "To scale to 0-100, one needs to find $\\alpha$ using the following Eqn.\n",
    "\n",
    "$ z_{1} = \\alpha \\times( 100*c_{1,1} + ... + 100 \\times 1*c_{1,v}) $ \n",
    "\n",
    "\n",
    "By assigning 100 to $z_{1}$ we have:\n",
    "\n",
    "$\\alpha = \\frac{100}{\\sum_{i=1}^{V} c_{1,i}}$\n",
    "\n",
    "Where $V$ is the number of features"
   ]
  },
  {
   "cell_type": "code",
   "execution_count": 20,
   "metadata": {},
   "outputs": [
    {
     "data": {
      "text/plain": [
       "-1.5177863026683167"
      ]
     },
     "execution_count": 20,
     "metadata": {},
     "output_type": "execute_result"
    }
   ],
   "source": [
    "alpha = 1/np.sum(c1)\n",
    "alpha"
   ]
  },
  {
   "cell_type": "markdown",
   "metadata": {},
   "source": [
    "Therefore, the hidden score, z, is :\n",
    "\n",
    "$z = \\alpha (0.2266*internet\\_abon. - 0.3632* Personel\\_abon.$ + 0.572* Company\\_abon.  - 0.5817 * mobile\\_int.\\_user) $\n"
   ]
  },
  {
   "cell_type": "code",
   "execution_count": 21,
   "metadata": {},
   "outputs": [
    {
     "name": "stdout",
     "output_type": "stream",
     "text": [
      "Hidden ranking vector: [-0.3523  1.0385 -0.5683  0.8822]\n"
     ]
    }
   ],
   "source": [
    "print(\"Hidden ranking vector:\", c1*alpha)\n",
    "# z = ? "
   ]
  },
  {
   "cell_type": "markdown",
   "metadata": {},
   "source": [
    "- Prof Mirkin Is it correct?\n",
    "- it is not clear to me what should I do here"
   ]
  },
  {
   "cell_type": "code",
   "execution_count": null,
   "metadata": {},
   "outputs": [],
   "source": []
  },
  {
   "cell_type": "markdown",
   "metadata": {},
   "source": [
    "#### Part 4:\n",
    "\n",
    "Visualize the data using two first principal components at the\n",
    "standardization with two versions of standardization: \n",
    "- (a) range standardization\n",
    "- (b) z-scoring"
   ]
  },
  {
   "cell_type": "code",
   "execution_count": 22,
   "metadata": {},
   "outputs": [
    {
     "name": "stdout",
     "output_type": "stream",
     "text": [
      "mu_z: [16.3447  7.6783  6.1558  0.0215]\n",
      "mu_r: [2.7619 1.0864 0.7979 0.004 ]\n",
      " \n",
      "[-0.5538 -0.5421 -0.4792 -0.412 ]\n",
      "[-0.6457 -0.6343 -0.3226 -0.2768]\n"
     ]
    }
   ],
   "source": [
    "x_z, x_r = standardizer(x=x_sel)  # standardize data\n",
    "z_z, mu_z, c_z = np.linalg.svd(x_z)  # pca of data preprocessed by z-scoring\n",
    "z_r, mu_r, c_r = np.linalg.svd(x_r)  # pca of data preprocessed by range standardization\n",
    "print(\"mu_z:\", mu_z)\n",
    "print(\"mu_r:\", mu_r)\n",
    "print(\" \")\n",
    "print(c_z[0])\n",
    "print(c_r[0])"
   ]
  },
  {
   "cell_type": "code",
   "execution_count": 23,
   "metadata": {},
   "outputs": [
    {
     "data": {
      "image/png": "[encoded data removed]",
      "text/plain": [
       "<Figure size 1404x684 with 2 Axes>"
      ]
     },
     "metadata": {
      "needs_background": "light"
     },
     "output_type": "display_data"
    }
   ],
   "source": [
    "z_z0 = z_z[:, 0]*np.sqrt(mu_z[0])\n",
    "z_z1 = z_z[:, 1]*np.sqrt(mu_z[1])\n",
    "\n",
    "z_r0 = z_r[:, 0]*np.sqrt(mu_r[0])\n",
    "z_r1 = z_r[:, 1]*np.sqrt(mu_r[1])\n",
    "fig = plt.figure(figsize=(19.5, 9.5))\n",
    "\n",
    "ax = fig.add_subplot(121)\n",
    "plt.scatter(z_z0, z_z1)\n",
    "plt.title(\"PCA of Z-scoring standardized data\")\n",
    "ax = fig.add_subplot(122)\n",
    "plt.scatter(z_r0, z_r1)\n",
    "plt.title(\"PCA of range standardatized data\")\n",
    "plt.show()"
   ]
  },
  {
   "cell_type": "markdown",
   "metadata": {},
   "source": [
    "- As one can see the difference is only in the scaling of these two figures"
   ]
  },
  {
   "cell_type": "markdown",
   "metadata": {},
   "source": [
    "#### ploting them all together "
   ]
  },
  {
   "cell_type": "code",
   "execution_count": null,
   "metadata": {},
   "outputs": [],
   "source": [
    "fig = plt.figure(figsize=(7, 7))\n",
    "ax = fig.add_subplot(1, 1, 1)\n",
    "ax.scatter(z_r0, z_r1, c='b')  # scatter plot of range stand.\n",
    "ax = fig.add_subplot(1, 1, 1)\n",
    "ax.scatter(z_z0, z_z1, c='r')  # scatter plot of z-scoring stand.\n",
    "ax.scatter(z_r0[50: 100], z_r1[50:100], c='k', marker='+')\n",
    "plt.legend(\"R\" + \"Z\" + \"3\")\n",
    "plt.show()"
   ]
  },
  {
   "cell_type": "code",
   "execution_count": null,
   "metadata": {},
   "outputs": [],
   "source": []
  },
  {
   "cell_type": "markdown",
   "metadata": {},
   "source": [
    "#### Conventional PCA\n",
    "?"
   ]
  },
  {
   "cell_type": "code",
   "execution_count": 11,
   "metadata": {},
   "outputs": [],
   "source": [
    "mean_x_sel = np.mean(x_sel, axis=0)\n",
    "x_cent = np.subtract(x_sel, mean_x_sel)  # Y in slides (centered version of Y)\n",
    "cov_mat_xc = (x_cent.T @ x_cent)/x_sel.shape[0]  # B in slides (covariance matrix)\n",
    "xc_lamda, xc_c = np.linalg.eig(cov_mat_xc)  # compute eigen vectors and eigen values of B\n",
    "la0_xc = xc_lamda[0]  # eig. val. 1st\n",
    "c0_xc = xc_c[:, 0]  # eig. vec. 1st\n",
    "\n",
    "z_c0 = (x_cent@c0_xc)/np.sqrt(x_cent.shape[0]*la0_xc)  # first pc"
   ]
  },
  {
   "cell_type": "code",
   "execution_count": 13,
   "metadata": {},
   "outputs": [],
   "source": [
    "cov_mat_xc_1 = cov_mat_xc - la0_xc*np.multiply(c0_xc, c0_xc.T)  # second cov. matrix\n",
    "xc_lamda_1, xc_c_1 = np.linalg.eig(cov_mat_xc_1)  # compute eigen vectors and eigen values of B\n",
    "la1_xc = xc_lamda_1[0]  # eig. val. 2nd\n",
    "c1_xc = xc_c_1[:, 0]  # eig. vec. 2nd\n",
    "\n",
    "z_c1 = (x_cent@c1_xc)/np.sqrt(x_cent.shape[0]*la1_xc)  # first pc"
   ]
  },
  {
   "cell_type": "code",
   "execution_count": 26,
   "metadata": {},
   "outputs": [
    {
     "data": {
      "image/png": "[encoded data removed]",
      "text/plain": [
       "<Figure size 432x288 with 1 Axes>"
      ]
     },
     "metadata": {
      "needs_background": "light"
     },
     "output_type": "display_data"
    }
   ],
   "source": [
    "fig = plt.figure()\n",
    "ax = fig.add_subplot(1, 1, 1)\n",
    "ax.scatter(z_c0, z_c1)\n",
    "plt.show()\n"
   ]
  },
  {
   "cell_type": "markdown",
   "metadata": {},
   "source": [
    "### Putting all together"
   ]
  },
  {
   "cell_type": "code",
   "execution_count": 28,
   "metadata": {},
   "outputs": [
    {
     "data": {
      "image/png": "[encoded data removed]",
      "text/plain": [
       "<Figure size 1404x684 with 3 Axes>"
      ]
     },
     "metadata": {
      "needs_background": "light"
     },
     "output_type": "display_data"
    }
   ],
   "source": [
    "z_z0 = z_z[:, 0]*np.sqrt(mu_z[0])\n",
    "z_z1 = z_z[:, 1]*np.sqrt(mu_z[1])\n",
    "\n",
    "z_r0 = z_r[:, 0]*np.sqrt(mu_r[0])\n",
    "z_r1 = z_r[:, 1]*np.sqrt(mu_r[1])\n",
    "fig = plt.figure(figsize=(19.5, 9.5))\n",
    "\n",
    "ax = fig.add_subplot(131)\n",
    "plt.scatter(z_z0, z_z1)\n",
    "plt.title(\"PCA of Z-scoring standardized data\")\n",
    "ax = fig.add_subplot(132)\n",
    "plt.scatter(z_r0, z_r1)\n",
    "plt.title(\"PCA of range standardatized data\")\n",
    "ax = fig.add_subplot(133)\n",
    "ax.scatter(z_c0, z_c1)\n",
    "plt.title(\"Conventional PCA of centered data\")\n",
    "plt.show()\n",
    "\n",
    "\n"
   ]
  },
  {
   "cell_type": "markdown",
   "metadata": {},
   "source": [
    " Conv PCA is correct?"
   ]
  },
  {
   "cell_type": "code",
   "execution_count": null,
   "metadata": {},
   "outputs": [],
   "source": []
  },
  {
   "cell_type": "code",
   "execution_count": null,
   "metadata": {},
   "outputs": [],
   "source": []
  },
  {
   "cell_type": "code",
   "execution_count": null,
   "metadata": {},
   "outputs": [],
   "source": []
  },
  {
   "cell_type": "markdown",
   "metadata": {},
   "source": [
    " x_toy = np.array([[41, 66, 90], [57, 56, 60], [61, 72, 79],\n",
    "                  [69, 73, 72], [63, 52, 88], [62, 83, 80]])"
   ]
  },
  {
   "cell_type": "code",
   "execution_count": null,
   "metadata": {},
   "outputs": [],
   "source": []
  },
  {
   "cell_type": "code",
   "execution_count": null,
   "metadata": {},
   "outputs": [],
   "source": []
  }
 ],
 "metadata": {
  "celltoolbar": "Raw Cell Format",
  "kernelspec": {
   "display_name": "Python 3",
   "language": "python",
   "name": "python3"
  },
  "language_info": {
   "codemirror_mode": {
    "name": "ipython",
    "version": 3
   },
   "file_extension": ".py",
   "mimetype": "text/x-python",
   "name": "python",
   "nbconvert_exporter": "python",
   "pygments_lexer": "ipython3",
   "version": "3.7.3"
  }
 },
 "nbformat": 4,
 "nbformat_minor": 2
}
