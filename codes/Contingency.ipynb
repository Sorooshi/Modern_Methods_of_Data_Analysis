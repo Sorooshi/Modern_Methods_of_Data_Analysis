{
 "cells": [
  {
   "cell_type": "code",
   "execution_count": 38,
   "metadata": {},
   "outputs": [],
   "source": [
    "import warnings\n",
    "import numpy as np\n",
    "import pandas as pd\n",
    "from scipy import sparse as sp\n",
    "import matplotlib.pyplot as plt\n",
    "from matplotlib.backends.backend_pdf import PdfPages"
   ]
  },
  {
   "cell_type": "code",
   "execution_count": 39,
   "metadata": {},
   "outputs": [],
   "source": [
    "warnings.filterwarnings('ignore')\n",
    "np.set_printoptions(suppress=True, precision=3, linewidth=250)"
   ]
  },
  {
   "cell_type": "markdown",
   "metadata": {},
   "source": [
    "### Loading Data set"
   ]
  },
  {
   "cell_type": "code",
   "execution_count": 40,
   "metadata": {},
   "outputs": [
    {
     "name": "stdout",
     "output_type": "stream",
     "text": [
      "number of entities: 91 , number of features: 5\n"
     ]
    }
   ],
   "source": [
    "x = np.loadtxt(\"../data/rin.dat\")  #  data matrix\n",
    "\n",
    "print(\"number of entities:\", x.shape[0], \", number of features:\", x.shape[1])\n",
    "\n",
    "with open(\"../data/namrin\", 'r') as fp:  # load names as list of string\n",
    "    names_ = fp.readlines()\n",
    "\n",
    "with open(\"../data/varrin\", 'r') as fp:  # load features names as list of string\n",
    "    features_ = fp.readlines()"
   ]
  },
  {
   "cell_type": "markdown",
   "metadata": {},
   "source": [
    "### Creating Pandas DataFrame for Visualization\n"
   ]
  },
  {
   "cell_type": "code",
   "execution_count": 35,
   "metadata": {},
   "outputs": [],
   "source": [
    "names = [name.strip() for name in names_]\n",
    "features = [feature.strip().split(\",\")[0] for feature in features_]\n",
    "# features"
   ]
  },
  {
   "cell_type": "code",
   "execution_count": 41,
   "metadata": {},
   "outputs": [
    {
     "data": {
      "text/html": [
       "<div>\n",
       "<style scoped>\n",
       "    .dataframe tbody tr th:only-of-type {\n",
       "        vertical-align: middle;\n",
       "    }\n",
       "\n",
       "    .dataframe tbody tr th {\n",
       "        vertical-align: top;\n",
       "    }\n",
       "\n",
       "    .dataframe thead th {\n",
       "        text-align: right;\n",
       "    }\n",
       "</style>\n",
       "<table border=\"1\" class=\"dataframe\">\n",
       "  <thead>\n",
       "    <tr style=\"text-align: right;\">\n",
       "      <th></th>\n",
       "      <th>'Internet abonents</th>\n",
       "      <th>'Personal abon.</th>\n",
       "      <th>'Company abon.</th>\n",
       "      <th>'Mobile Int. user</th>\n",
       "      <th>'Volume of information</th>\n",
       "    </tr>\n",
       "  </thead>\n",
       "  <tbody>\n",
       "    <tr>\n",
       "      <th>'Central'</th>\n",
       "      <td>212.316</td>\n",
       "      <td>199.597</td>\n",
       "      <td>12.719</td>\n",
       "      <td>838.953</td>\n",
       "      <td>231.933</td>\n",
       "    </tr>\n",
       "    <tr>\n",
       "      <th>'Belgorod'</th>\n",
       "      <td>248.517</td>\n",
       "      <td>236.956</td>\n",
       "      <td>11.558</td>\n",
       "      <td>963.444</td>\n",
       "      <td>361.539</td>\n",
       "    </tr>\n",
       "    <tr>\n",
       "      <th>'Bryansk'</th>\n",
       "      <td>192.963</td>\n",
       "      <td>178.115</td>\n",
       "      <td>14.848</td>\n",
       "      <td>717.172</td>\n",
       "      <td>174.693</td>\n",
       "    </tr>\n",
       "    <tr>\n",
       "      <th>'Vladimir'</th>\n",
       "      <td>155.780</td>\n",
       "      <td>145.530</td>\n",
       "      <td>10.250</td>\n",
       "      <td>649.882</td>\n",
       "      <td>202.636</td>\n",
       "    </tr>\n",
       "    <tr>\n",
       "      <th>'Voronezh'</th>\n",
       "      <td>193.378</td>\n",
       "      <td>181.890</td>\n",
       "      <td>11.489</td>\n",
       "      <td>680.391</td>\n",
       "      <td>247.181</td>\n",
       "    </tr>\n",
       "  </tbody>\n",
       "</table>\n",
       "</div>"
      ],
      "text/plain": [
       "            'Internet abonents  'Personal abon.  'Company abon.  \\\n",
       "'Central'              212.316          199.597          12.719   \n",
       "'Belgorod'             248.517          236.956          11.558   \n",
       "'Bryansk'              192.963          178.115          14.848   \n",
       "'Vladimir'             155.780          145.530          10.250   \n",
       "'Voronezh'             193.378          181.890          11.489   \n",
       "\n",
       "            'Mobile Int. user  'Volume of information  \n",
       "'Central'             838.953                 231.933  \n",
       "'Belgorod'            963.444                 361.539  \n",
       "'Bryansk'             717.172                 174.693  \n",
       "'Vladimir'            649.882                 202.636  \n",
       "'Voronezh'            680.391                 247.181  "
      ]
     },
     "execution_count": 41,
     "metadata": {},
     "output_type": "execute_result"
    }
   ],
   "source": [
    "df = pd.DataFrame(data=x, columns=features[:-1], index=names[1:])\n",
    "df.head()"
   ]
  },
  {
   "cell_type": "markdown",
   "metadata": {},
   "source": [
    "#####  Nominal Features\n",
    "\n",
    "There are 8 names of larger entities consisting of regions following after them. These names are as follows:\n",
    "\n",
    "1:Central including Russia (20 entities altogether),\n",
    "\n",
    "2: NW+South\n",
    "\n",
    "3: Volga+Ural\n",
    "\n",
    "4: Sibir+Far East\n",
    "\n",
    "Four parts in total"
   ]
  },
  {
   "cell_type": "code",
   "execution_count": 42,
   "metadata": {},
   "outputs": [],
   "source": [
    "# parts_names = [\"'Central'\", \"'NW'\", \"'South'\", \"'Volga'\", \"'Ural'\", \"'Sibir'\", \"'FarEast'\"]\n",
    "parts_names = [\"'Central'\", \"'NW'\", \"'Volga'\", \"'Sibir'\", ]"
   ]
  },
  {
   "cell_type": "code",
   "execution_count": 43,
   "metadata": {},
   "outputs": [
    {
     "data": {
      "text/plain": [
       "[0, 19, 47, 67]"
      ]
     },
     "execution_count": 43,
     "metadata": {},
     "output_type": "execute_result"
    }
   ],
   "source": [
    "parts_indices = [names.index(pn)-1 for pn in parts_names]\n",
    "parts_indices"
   ]
  },
  {
   "cell_type": "markdown",
   "metadata": {},
   "source": [
    "### Categorizing two features\n",
    "We consider the first and the last features, that is Internet abonents and Volume of information"
   ]
  },
  {
   "cell_type": "code",
   "execution_count": 44,
   "metadata": {},
   "outputs": [
    {
     "data": {
      "image/png": "[encoded data removed]",
      "text/plain": [
       "<Figure size 432x288 with 1 Axes>"
      ]
     },
     "metadata": {
      "needs_background": "light"
     },
     "output_type": "display_data"
    }
   ],
   "source": [
    "# number of bins is square root of number of entities in the data set\n",
    "# range is (x.min(), x.max())\n",
    "plt.hist(x[:, 0],int(np.round(np.sqrt(x.shape[0]))))\n",
    "plt.title(\"Histogram of first feature\")\n",
    "plt.show()"
   ]
  },
  {
   "cell_type": "markdown",
   "metadata": {},
   "source": [
    "boundaries for four categories of first feature : \n",
    "\n",
    "[0, 150, 210, 250, 350]\n"
   ]
  },
  {
   "cell_type": "code",
   "execution_count": 45,
   "metadata": {},
   "outputs": [
    {
     "data": {
      "image/png": "[encoded data removed]",
      "text/plain": [
       "<Figure size 432x288 with 1 Axes>"
      ]
     },
     "metadata": {
      "needs_background": "light"
     },
     "output_type": "display_data"
    }
   ],
   "source": [
    "plt.hist(x[:, -1], bins=20)\n",
    "plt.title(\"Histogram of last feature\")\n",
    "plt.show()"
   ]
  },
  {
   "cell_type": "markdown",
   "metadata": {},
   "source": [
    "boundaries for categorization of last feature:\n",
    "\n",
    "[0, 85, 200, 700]\n"
   ]
  },
  {
   "cell_type": "markdown",
   "metadata": {},
   "source": [
    "### Part 1, Consider three nominal features \n",
    "one of them, not more, may be taken from nominal features in your data:"
   ]
  },
  {
   "cell_type": "code",
   "execution_count": 46,
   "metadata": {
    "scrolled": true
   },
   "outputs": [
    {
     "data": {
      "text/plain": [
       "[0, 19, 47, 67]"
      ]
     },
     "execution_count": 46,
     "metadata": {},
     "output_type": "execute_result"
    }
   ],
   "source": [
    "parts_indices"
   ]
  },
  {
   "cell_type": "code",
   "execution_count": 47,
   "metadata": {},
   "outputs": [
    {
     "name": "stdout",
     "output_type": "stream",
     "text": [
      "(91, 6)\n"
     ]
    }
   ],
   "source": [
    ",# categorize version of x; the last columns for nominal feature\n",
    "x_c = np.zeros([x.shape[0], x.shape[1]+1])\n",
    "\n",
    "for i in range(x_c.shape[0]):\n",
    "    for v in range(x_c.shape[1]):\n",
    "        if v == 0:\n",
    "            if 0 <= x[i, v] < 150:\n",
    "                x_c[i, v] = 1\n",
    "            elif 150 <= x[i, v] < 210:\n",
    "                x_c[i, v] = 2\n",
    "            elif 210 <= x[i, v] < 250:\n",
    "                x_c[i, v] = 3\n",
    "            else:\n",
    "                x_c[i, v] = 4\n",
    "        if v == 4:\n",
    "            if 0 <= x[i, v] < 85:\n",
    "                x_c[i, v] = 1\n",
    "            elif 85 <= x[i, v] < 200:\n",
    "                x_c[i, v] = 2\n",
    "            else:\n",
    "                x_c[i, v] = 3\n",
    "        if v == 5:\n",
    "            if 0 <= i <= parts_indices[1]:\n",
    "                x_c[i,v] = 1\n",
    "            elif parts_indices[1] < i <= parts_indices[2]:\n",
    "                x_c[i,v] = 2\n",
    "            elif parts_indices[2] < i <= parts_indices[3]:\n",
    "                x_c[i,v] = 3\n",
    "            else:\n",
    "                x_c[i,v] = 4         \n",
    "        elif v!= 0 and v!=4 and v!=5:\n",
    "            x_c[i,v] = x[i,v]\n",
    "\n",
    "# G, H, T\n",
    "# x_categorical = x_c[:, [0, 4, 5]]  \n",
    "print(x_c.shape)"
   ]
  },
  {
   "cell_type": "markdown",
   "metadata": {},
   "source": [
    "So we created three nominal feature: \n",
    "\n",
    "- G-regions (4 categories),\n",
    "- H-number of abonents grouped (4 categories), \n",
    "- T-volume grouped (3 categories)"
   ]
  },
  {
   "cell_type": "markdown",
   "metadata": {},
   "source": [
    "### Part 2: Contingency Tables\n",
    "##### Function for creating contingecy table"
   ]
  },
  {
   "cell_type": "code",
   "execution_count": 12,
   "metadata": {},
   "outputs": [],
   "source": [
    "# def contingency_matrix(subset_1, subset_2):\n",
    "    \n",
    "#     \"\"\"\n",
    "#     A faster way to create a contingency table.\n",
    "#     However this table is not intuitive\n",
    "#     \"\"\"\n",
    "#     cat_1, cat_1_idx = np.unique(subset_1, return_invers,e=True)\n",
    "#     cat_2, cat_2_idx = np.unique(subset_2, return_inverse=True)\n",
    "#     n_cat_1 = cat_1.shape[0]\n",
    "#     n_cat_2 = cat_2.shape[0]\n",
    "#     # sp.coo_matrix:= A sparse matrix in COOrdinate format.\n",
    "#     # Also known as the ‘ijv’ or ‘triplet’ format.\n",
    "#     contingency = sp.coo_matrix((np.ones(cat_1_idx.shape[0]),\n",
    "#                                 (cat_1_idx, cat_2_idx)),\n",
    "#                                 shape=(n_cat_1, n_cat_2),\n",
    "#                                 dtype=np.int)\n",
    "    \n",
    "#     contingency = contingency.toarray()\n",
    "    \n",
    "#     return contingency\n",
    "    "
   ]
  },
  {
   "cell_type": "code",
   "execution_count": 49,
   "metadata": {},
   "outputs": [],
   "source": [
    "def contingency_table(subset_1, subset_2):\n",
    "    \n",
    "    \"\"\"\n",
    "    An slower yet more intuitive way to create contingency table.\n",
    "    returns contingency tables of two subsets,\n",
    "    so that the last column and last row represent the\n",
    "    marginal frequencies of Tk and Gl.\n",
    "    \"\"\"\n",
    "    \n",
    "    cat_1, cat_1_idx = np.unique(subset_1, return_inverse=True)\n",
    "    cat_2, cat_2_idx = np.unique(subset_2, return_inverse=True)\n",
    "    n_cat_1 = cat_1.shape[0]\n",
    "    n_cat_2 = cat_2.shape[0]\n",
    "    contingency = np.zeros([n_cat_1+1, n_cat_2+1], dtype=np.int)\n",
    "\n",
    "    for row in range(n_cat_1):  \n",
    "        for col in range(n_cat_2): \n",
    "            n_rc = len(set(np.where(cat_1_idx==row)[0].tolist()).intersection(\n",
    "                    set(np.where(cat_2_idx==col)[0].tolist())))\n",
    "            contingency[row, col] = n_rc\n",
    "        contingency[row, -1] = np.sum(contingency[row, :])\n",
    "    \n",
    "    contingency[-1, :] = np.sum(contingency, axis=0)\n",
    "    \n",
    "    relative_frequencies = np.divide(contingency, contingency[-1, -1])\n",
    "    \n",
    "    return contingency, relative_frequencies"
   ]
  },
  {
   "cell_type": "markdown",
   "metadata": {},
   "source": [
    "### Developing contingency tables P(T|G) and P(T|H):\n",
    "######  P(T|G)"
   ]
  },
  {
   "cell_type": "code",
   "execution_count": 14,
   "metadata": {},
   "outputs": [
    {
     "name": "stdout",
     "output_type": "stream",
     "text": [
      "contingency P(T|G): \n",
      "\n",
      "[[ 7  3  0  0 10]\n",
      " [12 23 12  1 48]\n",
      " [ 2 11 12  8 33]\n",
      " [21 37 24  9 91]]\n",
      " \n",
      "prob P(T|G): \n",
      "\n",
      "[[0.077 0.033 0.    0.    0.11 ]\n",
      " [0.132 0.253 0.132 0.011 0.527]\n",
      " [0.022 0.121 0.132 0.088 0.363]\n",
      " [0.231 0.407 0.264 0.099 1.   ]]\n"
     ]
    }
   ],
   "source": [
    "contingency_T_G, rel_freq_T_G = contingency_table(x_c[:, 4], x_c[:, 0])  # T given H\n",
    "\n",
    "print(\"contingency P(T|G):\", \"\\n\",)\n",
    "print(contingency_T_G)\n",
    "print(\" \")\n",
    "print(\"prob P(T|G):\", \"\\n\",)\n",
    "print(rel_freq_T_G)"
   ]
  },
  {
   "cell_type": "markdown",
   "metadata": {},
   "source": [
    "###### P(H| T)"
   ]
  },
  {
   "cell_type": "code",
   "execution_count": 50,
   "metadata": {},
   "outputs": [
    {
     "name": "stdout",
     "output_type": "stream",
     "text": [
      "contingency P(T|H): \n",
      "\n",
      "[[ 0  7  0  3 10]\n",
      " [10 16 14  8 48]\n",
      " [10  5  6 12 33]\n",
      " [20 28 20 23 91]]\n",
      " \n",
      "prob P(T|H): \n",
      "\n",
      "[[0.    0.077 0.    0.033 0.11 ]\n",
      " [0.11  0.176 0.154 0.088 0.527]\n",
      " [0.11  0.055 0.066 0.132 0.363]\n",
      " [0.22  0.308 0.22  0.253 1.   ]]\n"
     ]
    }
   ],
   "source": [
    "contingency_T_H, rel_freq_T_H = contingency_table(x_c[:, 4], x_c[:, 5])  # T given H\n",
    "print(\"contingency P(T|H):\", \"\\n\",)\n",
    "print(contingency_T_H)\n",
    "print(\" \")\n",
    "print(\"prob P(T|H):\", \"\\n\",)\n",
    "print(rel_freq_T_H)"
   ]
  },
  {
   "cell_type": "code",
   "execution_count": 16,
   "metadata": {},
   "outputs": [],
   "source": [
    "# # marginal frequencies\n",
    "# freq_of_G = np.sum(contingency_T_G, axis=0)  \n",
    "# freq_of_T = np.sum(contingency_T_G, axis=1)\n",
    "# freq_of_H = np.sum(contingency_T_G, axis=0) \n",
    "# print(freq_of_T.reshape(-1, 1),)\n",
    "# print(\" \")\n",
    "# print(freq_of_G)\n"
   ]
  },
  {
   "cell_type": "markdown",
   "metadata": {},
   "source": [
    "### Conditional Probabilities\n",
    "##### marginal frequency\n",
    "let us first introduce variables for tthe marginal frequencies"
   ]
  },
  {
   "cell_type": "code",
   "execution_count": 51,
   "metadata": {},
   "outputs": [],
   "source": [
    "marg_freq_T = contingency_T_G[:-1, -1:]  # marginal frequencies of Ts\n",
    "marg_freq_G = contingency_T_G[-1, :-1]  # marginal frequencies of Gs\n",
    "marg_freq_H = contingency_T_H[-1, :-1]  # marginal frequencies of Hs"
   ]
  },
  {
   "cell_type": "code",
   "execution_count": 52,
   "metadata": {},
   "outputs": [
    {
     "name": "stdout",
     "output_type": "stream",
     "text": [
      "Conditional T given G: \n",
      " \n",
      " [[0.333 0.081 0.    0.   ]\n",
      " [0.571 0.622 0.5   0.111]\n",
      " [0.095 0.297 0.5   0.889]]\n"
     ]
    }
   ],
   "source": [
    "conditional_T_G = np.divide(contingency_T_G[:-1, :-1], marg_freq_G)\n",
    "print(\"Conditional T given G:\", \"\\n \\n\",\n",
    "      conditional_T_G)"
   ]
  },
  {
   "cell_type": "markdown",
   "metadata": {},
   "source": [
    " As one can see:\n",
    "\n",
    "- T2 is more likely at G2,\n",
    "- T3 is more likely at G4\n",
    "- Only one number is high enough, p(T3|G4) = .889\n"
   ]
  },
  {
   "cell_type": "code",
   "execution_count": 54,
   "metadata": {},
   "outputs": [
    {
     "name": "stdout",
     "output_type": "stream",
     "text": [
      "Conditional T given H: \n",
      " \n",
      " [[0.    0.25  0.    0.13 ]\n",
      " [0.5   0.571 0.7   0.348]\n",
      " [0.5   0.179 0.3   0.522]]\n"
     ]
    }
   ],
   "source": [
    "conditional_T_H = np.divide(contingency_T_H[:-1, :-1], marg_freq_H)\n",
    "print(\"Conditional T given H:\", \"\\n \\n\",\n",
    "      conditional_T_H)"
   ]
  },
  {
   "cell_type": "markdown",
   "metadata": {},
   "source": [
    " As one can see:\n",
    "\n",
    "- T2 is more likely at H3\n",
    "\n"
   ]
  },
  {
   "cell_type": "markdown",
   "metadata": {},
   "source": [
    "### Quetelet (T|G)"
   ]
  },
  {
   "cell_type": "markdown",
   "metadata": {},
   "source": [
    "#####  First way of computing Quetelet index "
   ]
  },
  {
   "cell_type": "code",
   "execution_count": 22,
   "metadata": {},
   "outputs": [
    {
     "data": {
      "text/plain": [
       "array([[ 2.033, -0.262, -1.   , -1.   ],\n",
       "       [ 0.083,  0.178, -0.052, -0.789],\n",
       "       [-0.737, -0.18 ,  0.379,  1.451]])"
      ]
     },
     "execution_count": 22,
     "metadata": {},
     "output_type": "execute_result"
    }
   ],
   "source": [
    "quetelet_T_G = np.subtract(np.divide(conditional_T_G, \n",
    "                                     marg_freq_T/x.shape[0]), 1)\n",
    "quetelet_T_G"
   ]
  },
  {
   "cell_type": "markdown",
   "metadata": {},
   "source": [
    "##### Second way of computing Quetelet index "
   ]
  },
  {
   "cell_type": "code",
   "execution_count": 23,
   "metadata": {},
   "outputs": [],
   "source": [
    "# Independent probabilities: \n",
    "indep_T_n_G = marg_freq_T/x.shape[0]@marg_freq_G.reshape(1, -1)/x.shape[0]\n",
    "indep_T_n_H = marg_freq_T/x.shape[0]@marg_freq_H.reshape(1, -1)/x.shape[0]\n"
   ]
  },
  {
   "cell_type": "code",
   "execution_count": 55,
   "metadata": {},
   "outputs": [
    {
     "data": {
      "text/plain": [
       "array([[ 2.033, -0.262, -1.   , -1.   ],\n",
       "       [ 0.083,  0.178, -0.052, -0.789],\n",
       "       [-0.737, -0.18 ,  0.379,  1.451]])"
      ]
     },
     "execution_count": 55,
     "metadata": {},
     "output_type": "execute_result"
    }
   ],
   "source": [
    "# Quetelet Index:\n",
    "quetelet_T_G_ = np.subtract(np.divide(rel_freq_T_G[:-1, :-1], indep_T_n_G), 1)\n",
    "quetelet_T_G_"
   ]
  },
  {
   "cell_type": "markdown",
   "metadata": {},
   "source": [
    "- Note the identical results obtained by applying two ways for computing Quetelet index tabel\n",
    "\n",
    "- Big positive numbers q(T1 | G1) = 203% and q(T3|G4) = 145% these are the relative increases of the probabilities.\n",
    "\n"
   ]
  },
  {
   "cell_type": "code",
   "execution_count": 56,
   "metadata": {},
   "outputs": [],
   "source": [
    "# quetelet_T_G = np.subtract(np.divide(conditional_T_G, \n",
    "#                                      marg_freq_T/x.shape[0]), 1)"
   ]
  },
  {
   "cell_type": "code",
   "execution_count": 57,
   "metadata": {},
   "outputs": [
    {
     "data": {
      "text/plain": [
       "array([[-1.   ,  1.275, -1.   ,  0.187],\n",
       "       [-0.052,  0.083,  0.327, -0.341],\n",
       "       [ 0.379, -0.508, -0.173,  0.439]])"
      ]
     },
     "execution_count": 57,
     "metadata": {},
     "output_type": "execute_result"
    }
   ],
   "source": [
    "quetelet_T_H = np.subtract(np.divide(conditional_T_H, marg_freq_T/x.shape[0]), 1)\n",
    "quetelet_T_H"
   ]
  },
  {
   "cell_type": "code",
   "execution_count": 58,
   "metadata": {},
   "outputs": [
    {
     "data": {
      "text/plain": [
       "array([[-1.   ,  1.275, -1.   ,  0.187],\n",
       "       [-0.052,  0.083,  0.327, -0.341],\n",
       "       [ 0.379, -0.508, -0.173,  0.439]])"
      ]
     },
     "execution_count": 58,
     "metadata": {},
     "output_type": "execute_result"
    }
   ],
   "source": [
    "quetelet_T_H_ = np.subtract(np.divide(rel_freq_T_H[:-1, :-1], indep_T_n_H), 1)\n",
    "quetelet_T_H_"
   ]
  },
  {
   "cell_type": "markdown",
   "metadata": {},
   "source": [
    "- Relatively big positive number q(T1 | H2) = 127% this is the relative increases of the probabilities still smaller than in the previous table."
   ]
  },
  {
   "cell_type": "markdown",
   "metadata": {},
   "source": [
    "### Part 3 Average Quetelet and Chi-squared \n"
   ]
  },
  {
   "cell_type": "code",
   "execution_count": 59,
   "metadata": {},
   "outputs": [],
   "source": [
    "def compute_chi2 (rel_freq, indep_prob):\n",
    "    \"As per slides page 50\"\n",
    "    d = np.subtract(rel_freq[:-1, :-1], indep_prob)\n",
    "    dd = np.power(d, 2)\n",
    "    chi =  np.divide(dd, indep_T_n_G)\n",
    "    chi2 = np.sum(chi)\n",
    "    return chi2"
   ]
  },
  {
   "cell_type": "code",
   "execution_count": 60,
   "metadata": {},
   "outputs": [
    {
     "name": "stdout",
     "output_type": "stream",
     "text": [
      "average Quetelet Index T give G: 0.32786747786747783\n"
     ]
    }
   ],
   "source": [
    "# Average Quetelet index is the inner product of two matrices:\n",
    "# Observed relative contingency table and the table of Quetelet indices\n",
    "\n",
    "ave_quet_idx_T_G = np.sum(rel_freq_T_G[:-1, :-1].reshape(1, -1)* \n",
    "                          quetelet_T_G.reshape(1, -1))\n",
    "\n",
    "print(\"average Quetelet Index T given G:\", ave_quet_idx_T_G)"
   ]
  },
  {
   "cell_type": "code",
   "execution_count": 64,
   "metadata": {},
   "outputs": [
    {
     "name": "stdout",
     "output_type": "stream",
     "text": [
      "Chi2: 0.32786747786747783\n"
     ]
    }
   ],
   "source": [
    "chi2_T_G = compute_chi2(rel_freq_T_G, indep_T_n_G)\n",
    "print(\"Chi2:\", ave_quet_idx_T_G)"
   ]
  },
  {
   "cell_type": "markdown",
   "metadata": {},
   "source": [
    "- Meaning of the average Quetelet: on average, knowledge of Gl categories “adds” 32.8% to the frequency of Tk categories\n",
    "\n",
    "\n",
    "- Chi-squared: Degree of Freedom is 6 = (3-1) *(4-1)\n",
    "\n",
    "According to the table reported:\n",
    "\n",
    "http://uregina.ca/~gingrich/appchi.pdf\n",
    "\n",
    "- under the hypothesis of independence, the 95% confidence that N*chi-squared is less than t=12.592\n",
    "\n",
    "We have N > 12.592/.328 = 38.4, that is, at any N>39 the hypothesis of statistical independence should be rejected at 95% confidence level.\n",
    "\n",
    "Similarly, \n",
    "\n",
    "- at the 99% probability that chi-squared is less than t = 22.458\n",
    "\n",
    "We have N > 22.458/.328 = 68.5, that is, at any N>69 the hypothesis of statistical independence should be rejected at 99% confidence level.\n",
    "\n",
    "In our case $N=91$.\n"
   ]
  },
  {
   "cell_type": "code",
   "execution_count": 65,
   "metadata": {},
   "outputs": [
    {
     "name": "stdout",
     "output_type": "stream",
     "text": [
      "average Quetelet Index T given H: 0.19375117635987196\n"
     ]
    }
   ],
   "source": [
    "# Average Quetelet index is the inner product of two matrices:\n",
    "# Observed relative contingency table and the table of Quetelet indices\n",
    "\n",
    "ave_quet_idx_T_H = np.sum(rel_freq_T_H[:-1, :-1].reshape(1, -1)* \n",
    "                          quetelet_T_H.reshape(1, -1))\n",
    "\n",
    "print(\"average Quetelet Index T given H:\", ave_quet_idx_T_H)"
   ]
  },
  {
   "cell_type": "code",
   "execution_count": 66,
   "metadata": {},
   "outputs": [
    {
     "name": "stdout",
     "output_type": "stream",
     "text": [
      "Chi2: 0.19375117635987196\n"
     ]
    }
   ],
   "source": [
    "chi2_T_H = compute_chi2(rel_freq_T_H, indep_T_n_H)\n",
    "print(\"Chi2:\", ave_quet_idx_T_H)"
   ]
  },
  {
   "cell_type": "markdown",
   "metadata": {},
   "source": [
    "- The Average Quetelet indexes show that association between G and T is twice larger than association between H and T. \n",
    "\n"
   ]
  },
  {
   "cell_type": "markdown",
   "metadata": {},
   "source": [
    "### The hypothesis of independence "
   ]
  },
  {
   "cell_type": "markdown",
   "metadata": {},
   "source": [
    "According to the table reported:\n",
    "\n",
    "http://uregina.ca/~gingrich/appchi.pdf\n",
    "\n",
    "- under the hypothesis of independence, the 95% confidence that N*chi-squared is less than t=12.592\n",
    "\n",
    "We have N > 12.592/.193 = 65.2, that is, at any N>66 the hypothesis\n",
    "of statistical independence should be rejected at 95% confidence level.\n",
    "\n",
    "Similarly, \n",
    "\n",
    "- at the 99% probability that chi-squared is less than t = 22.458\n",
    "\n",
    "N=91, we have N < 22.458/.193 = 116.4, that is, at any N<117 the hypothesis\n",
    "of statistical independence should be accepted at 99% confidence level.\n",
    "In our case $N=91$.  \n",
    "\n",
    "At 95% confidence independence is rejected, at 99% confidence independence is accepted.\n"
   ]
  },
  {
   "cell_type": "markdown",
   "metadata": {},
   "source": [
    "### Visualization"
   ]
  },
  {
   "cell_type": "code",
   "execution_count": 81,
   "metadata": {},
   "outputs": [],
   "source": [
    "heat_map_quet_T_G = (rel_freq_T_G[:-1, :-1].reshape(1, -1)*quetelet_T_G.reshape(1, -1)).reshape(3, 4)"
   ]
  },
  {
   "cell_type": "code",
   "execution_count": 86,
   "metadata": {},
   "outputs": [
    {
     "data": {
      "image/png": "[encoded data removed]",
      "text/plain": [
       "<Figure size 432x288 with 2 Axes>"
      ]
     },
     "metadata": {
      "needs_background": "light"
     },
     "output_type": "display_data"
    }
   ],
   "source": [
    "plt.imshow(heat_map_quet_T_G, cmap='hot', \n",
    "           interpolation='nearest')\n",
    "plt.colorbar()\n",
    "plt.show()"
   ]
  },
  {
   "cell_type": "code",
   "execution_count": 87,
   "metadata": {},
   "outputs": [
    {
     "data": {
      "text/plain": [
       "array([[ 0.156, -0.009, -0.   , -0.   ],\n",
       "       [ 0.011,  0.045, -0.007, -0.009],\n",
       "       [-0.016, -0.022,  0.05 ,  0.128]])"
      ]
     },
     "execution_count": 87,
     "metadata": {},
     "output_type": "execute_result"
    }
   ],
   "source": [
    "heat_map_quet_T_G"
   ]
  },
  {
   "cell_type": "code",
   "execution_count": 88,
   "metadata": {},
   "outputs": [
    {
     "data": {
      "text/plain": [
       "array([[-0.   ,  0.098, -0.   ,  0.006],\n",
       "       [-0.006,  0.015,  0.05 , -0.03 ],\n",
       "       [ 0.042, -0.028, -0.011,  0.058]])"
      ]
     },
     "execution_count": 88,
     "metadata": {},
     "output_type": "execute_result"
    }
   ],
   "source": [
    "heat_map_quet_T_H = (rel_freq_T_H[:-1, :-1].reshape(1, -1)*quetelet_T_H.reshape(1, -1)).reshape(3, 4)\n",
    "heat_map_quet_T_H"
   ]
  },
  {
   "cell_type": "code",
   "execution_count": 89,
   "metadata": {},
   "outputs": [
    {
     "data": {
      "image/png": "[encoded data removed]",
      "text/plain": [
       "<Figure size 432x288 with 2 Axes>"
      ]
     },
     "metadata": {
      "needs_background": "light"
     },
     "output_type": "display_data"
    }
   ],
   "source": [
    "plt.imshow(heat_map_quet_T_H, cmap='hot', \n",
    "           interpolation='nearest')\n",
    "plt.colorbar()\n",
    "plt.show()"
   ]
  },
  {
   "cell_type": "code",
   "execution_count": null,
   "metadata": {},
   "outputs": [],
   "source": []
  }
 ],
 "metadata": {
  "kernelspec": {
   "display_name": "Python 3",
   "language": "python",
   "name": "python3"
  },
  "language_info": {
   "codemirror_mode": {
    "name": "ipython",
    "version": 3
   },
   "file_extension": ".py",
   "mimetype": "text/x-python",
   "name": "python",
   "nbconvert_exporter": "python",
   "pygments_lexer": "ipython3",
   "version": "3.7.9"
  }
 },
 "nbformat": 4,
 "nbformat_minor": 2
}
