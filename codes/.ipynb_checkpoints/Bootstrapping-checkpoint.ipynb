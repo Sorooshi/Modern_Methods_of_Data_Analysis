{
 "cells": [
  {
   "cell_type": "code",
   "execution_count": 1,
   "metadata": {},
   "outputs": [],
   "source": [
    "import warnings\n",
    "import numpy as np\n",
    "from sklearn import datasets\n",
    "import matplotlib.pyplot as plt \n",
    "from sklearn.cluster import KMeans"
   ]
  },
  {
   "cell_type": "code",
   "execution_count": 2,
   "metadata": {},
   "outputs": [],
   "source": [
    "warnings.filterwarnings('ignore')\n",
    "np.set_printoptions(suppress=True, precision=3)"
   ]
  },
  {
   "cell_type": "markdown",
   "metadata": {},
   "source": [
    "### Loading the data"
   ]
  },
  {
   "cell_type": "code",
   "execution_count": 3,
   "metadata": {},
   "outputs": [],
   "source": [
    "# iris = datasets.load_iris()\n",
    "# data = iris.data\n",
    "# targets = iris.target"
   ]
  },
  {
   "cell_type": "code",
   "execution_count": 4,
   "metadata": {},
   "outputs": [
    {
     "name": "stdout",
     "output_type": "stream",
     "text": [
      "number of entities: 91 , number of features: 5\n"
     ]
    }
   ],
   "source": [
    "data = np.loadtxt(\"../data/rin.dat\")  #  data matrix\n",
    "\n",
    "print(\"number of entities:\", data.shape[0], \", number of features:\", data.shape[1])\n",
    "\n",
    "with open(\"../data/namrin\", 'r') as fp:  # load names as list of string\n",
    "    names_ = fp.readlines()\n",
    "\n",
    "with open(\"../data/varrin\", 'r') as fp:  # load features names as list of string\n",
    "    features_ = fp.readlines()"
   ]
  },
  {
   "cell_type": "code",
   "execution_count": 5,
   "metadata": {},
   "outputs": [
    {
     "data": {
      "image/png": "[encoded data removed]",
      "text/plain": [
       "<Figure size 432x288 with 1 Axes>"
      ]
     },
     "metadata": {
      "needs_background": "light"
     },
     "output_type": "display_data"
    }
   ],
   "source": [
    "x = data[:, 0]  # a random variable\n",
    "plt.hist(x, bins=15)\n",
    "plt.title(\"Histogram of random samples\")\n",
    "plt.show()"
   ]
  },
  {
   "cell_type": "code",
   "execution_count": 6,
   "metadata": {},
   "outputs": [
    {
     "name": "stdout",
     "output_type": "stream",
     "text": [
      "187.2911 64.4302\n"
     ]
    }
   ],
   "source": [
    "mean_samples = np.mean(x)\n",
    "std_samples = np.std(x)\n",
    "print(\"%.4f\" % mean_samples, \"%.4f\" % std_samples)"
   ]
  },
  {
   "cell_type": "code",
   "execution_count": 7,
   "metadata": {},
   "outputs": [],
   "source": [
    "def standardizer(x):\n",
    "    \n",
    "    \"\"\"\n",
    "        standardize entity-to-feature data matrix by \n",
    "          applying Z-scoring and Range standardization methods\n",
    "        \n",
    "        Arguments: \n",
    "            x, numpy array, entity-to-feature data matrix\n",
    "        \n",
    "        Returns:\n",
    "            Z-scored and Range standardized data matrices\n",
    "    \"\"\"\n",
    "    \n",
    "    x_ave = np.mean(x, axis=0)\n",
    "    x_rng = np.ptp(x, axis=0)\n",
    "    x_std = np.std(x, axis=0)\n",
    "    x_zscr_std = np.divide(np.subtract(x, x_ave), x_std)   # Z-scoring standardization\n",
    "    x_rng_std = np.divide(np.subtract(x, x_ave), x_rng)  # Range standardization \n",
    "    return x_zscr_std, x_rng_std"
   ]
  },
  {
   "cell_type": "code",
   "execution_count": 8,
   "metadata": {},
   "outputs": [],
   "source": [
    "def apply_kmeans(x_org, n_clusters, n_repeats, std_method='r'):\n",
    "\n",
    "\n",
    "    \"\"\"\n",
    "        Calls Kmeans algorithm from Sklearn library.\n",
    "        Parameters:\n",
    "            x, a numpy arrary, entity-to-feature matrix,\n",
    "            n_clusters, int, number of clusters to detect,\n",
    "            n_repeats, int, number of repeats for different initilization\n",
    "        Return:\n",
    "            centroids, clusters labels over\n",
    "    \"\"\"\n",
    "    \n",
    "    tmp_inertia = 0\n",
    "    clusters, best_clusters = {}, {}\n",
    "    indices, best_indices = {}, {}\n",
    "    cluster_means, best_cluster_means = {}, {}\n",
    "    differences, best_differences = {}, {}\n",
    "    rel_differences, best_rel_differences = {}, {}\n",
    "    inertia, best_inertia = {}, {}\n",
    "    g_mean = np.mean(x_org, axis=0)\n",
    "    \n",
    "    x_zscr_std, x_rng_std = standardizer(x=x_org)\n",
    "        \n",
    "#     x = x_org\n",
    "    \n",
    "    for i in range(n_repeats):\n",
    "        clusters[i] = {}\n",
    "        cluster_means[i] = {}\n",
    "        differences[i] = {}\n",
    "        rel_differences[i] = {}\n",
    "        indices[i] = {}\n",
    "        inertia[i] = {}\n",
    "        \n",
    "        # instantiate KMeans Alg. object\n",
    "        km = KMeans(n_clusters=n_clusters, init='random', n_init=1, max_iter=500,\n",
    "                    tol=1e-4, random_state=i, algorithm='full', )  # verbose=1\n",
    "        if std_method.lower() == 'r' or \\\n",
    "        std_method.lower() == 'rng' or \\\n",
    "        std_method.lower() == 'range':\n",
    "            km.fit(x_rng_std)  # Compute k-means by calling fit method \n",
    "            \n",
    "        else:\n",
    "            km.fit(x_zscr_std)  # Compute k-means by calling fit method \n",
    "        \n",
    "        # Store the computation results per each initilization\n",
    "        for k in range(n_clusters):\n",
    "            clusters[i][k] = x_org[np.where(km.labels_==k)]\n",
    "            indices[i][k] = np.where(km.labels_==k)[0]\n",
    "            \n",
    "        inertia[i] = km.inertia_\n",
    "        \n",
    "        for k in range(n_clusters):\n",
    "            cluster_means[i][k] = np.mean(clusters[i][k], axis=0)    \n",
    "            differences[i][k] = np.subtract(cluster_means[i][k], g_mean)\n",
    "            rel_differences[i][k] = 100*(np.divide(\n",
    "                np.subtract(cluster_means[i][k], g_mean), g_mean)\n",
    "                                        )\n",
    "        # to chose the best clustering results regarding the inertia\n",
    "        if i == 0 :\n",
    "            tmp_inertia = km.inertia_\n",
    "            delta = 0\n",
    "        if i != 0:\n",
    "            delta = tmp_inertia - km.inertia_\n",
    "        if delta >= 0:\n",
    "            tmp_inertia = km.inertia_    \n",
    "            for k in range(n_clusters):\n",
    "                best_clusters[k] = x_org[np.where(km.labels_==k)]\n",
    "                best_indices[k] = np.where(km.labels_==k)[0]\n",
    "            for k in range(n_clusters):\n",
    "                best_cluster_means[k] = np.mean(best_clusters[k], axis=0)\n",
    "                best_differences[k] = np.subtract(best_cluster_means[k], g_mean)\n",
    "                best_rel_differences[k] = 100*(np.divide(\n",
    "                    np.subtract(best_cluster_means[k], g_mean), g_mean)\n",
    "                                              )\n",
    "            best_inertia = km.inertia_\n",
    "    \n",
    "    return  clusters, best_clusters, indices, \\\n",
    "best_indices, cluster_means, best_cluster_means, \\\n",
    "differences, rel_differences, best_differences, \\\n",
    "best_rel_differences , inertia, best_inertia"
   ]
  },
  {
   "cell_type": "code",
   "execution_count": 9,
   "metadata": {},
   "outputs": [],
   "source": [
    "def compute_confidence(resampled_means):\n",
    "    \n",
    "    \"\"\"\n",
    "        Compute the confidence interval\n",
    "        Arguments: \n",
    "            resampled_means data, numpy array.\n",
    "        Returns:\n",
    "            bootstrap means, bootstrap std, and pivotal and non pivotal boundries\n",
    "    \"\"\"\n",
    "    \n",
    "    # pivotal method:\n",
    "    boots_mean = np.mean(resampled_means)\n",
    "    boots_std = np.std(resampled_means)\n",
    "    \n",
    "    \n",
    "    lbp = boots_mean - 1.96*boots_std  # left bound pivotal\n",
    "    rbp = boots_mean + 1.96*boots_std  # right bound pivotal\n",
    "\n",
    "    # Non-pivotal:\n",
    "    lower_bound_index = int((len(resampled_means))*.025)\n",
    "    higher_bound_index = int((len(resampled_means))*.975)\n",
    "    resampled_mean_sorted = sorted(resampled_means,)\n",
    "\n",
    "    lbn = resampled_mean_sorted[lower_bound_index]  # left bound non pivotal\n",
    "    rbn = resampled_mean_sorted[higher_bound_index]  # right bound non pivotal\n",
    "    \n",
    "    return boots_mean, boots_std, lbp, rbp, lbn, rbn"
   ]
  },
  {
   "cell_type": "markdown",
   "metadata": {},
   "source": [
    "# Bootstrapping"
   ]
  },
  {
   "cell_type": "code",
   "execution_count": 10,
   "metadata": {},
   "outputs": [],
   "source": [
    "def bootstrapping(x, x_idx, n_resample, n_bootstrap):\n",
    "    \n",
    "    \"\"\"\n",
    "        x, a 1-D array, representing the random samples.\n",
    "        x_idx, a 1-D array, representing the random samples indices:\n",
    "            e.g 1st cluster indices (membership vector) or\n",
    "            a range from 0 to number of random samples.\n",
    "        n_resample, an int., representing the random sampling size.\n",
    "        n_bootstrap, an int, representing the number of \n",
    "            repeats in the bootstrapping procedure.\n",
    "\n",
    "        Returns x_resampled_means, x_resampled_stds,\n",
    "                boots_mean, boots_std,\n",
    "                lbp, rbp, lbn, rbn, \n",
    "        where:\n",
    "            x_resampled_means: list of means of resampled data(x) of the length n_resample;\n",
    "            x_resampled_stds: list of standard deviations of resampled data(x);\n",
    "                of the length n_resample,\n",
    "            boots_mean: floating number, representing bootstrap mean --i.e mean of means)\n",
    "            boots_std: floating number, representing bootstrap std --i.e std of stds.\n",
    "    \"\"\"\n",
    "\n",
    "    np.random.seed(42)  # for the sake of reproducibility\n",
    "    x_resampled_means, x_resampled_stds = [], []\n",
    "\n",
    "    for _ in range(n_bootstrap):\n",
    "        list_to_choose = range(0, n_resample, 1)\n",
    "        resampled_idx = np.random.choice(list_to_choose,\n",
    "                                         size=n_resample, \n",
    "                                         replace=True,)\n",
    "        idx = [i for i in resampled_idx if i in x_idx]\n",
    "        x_resampled = x[idx]\n",
    "        x_resampled_means.append(np.mean(x_resampled))\n",
    "        x_resampled_stds.append(np.std(x_resampled))  # /np.sqrt(len(x)))\n",
    "\n",
    "    boots_mean, boots_std, lbp, rbp, lbn, rbn = compute_confidence(\n",
    "        resampled_means=x_resampled_means)\n",
    "\n",
    "    return x_resampled_means, x_resampled_stds, boots_mean, boots_std, lbp, rbp, lbn, rbn"
   ]
  },
  {
   "cell_type": "code",
   "execution_count": 11,
   "metadata": {},
   "outputs": [
    {
     "data": {
      "image/png": "[encoded data removed]",
      "text/plain": [
       "<Figure size 432x288 with 1 Axes>"
      ]
     },
     "metadata": {
      "needs_background": "light"
     },
     "output_type": "display_data"
    }
   ],
   "source": [
    "n_resample = data.shape[0]\n",
    "n_bootstrap = 5000\n",
    "\n",
    "x_resampled_means, x_resampled_stds, x_boots_mean, \\\n",
    "x_boots_std, x_lbp, x_rbp, x_lbn, x_rbn = bootstrapping(x=x,\n",
    "                                                        x_idx=np.arange(0, n_resample),\n",
    "                                                        n_resample=n_resample, \n",
    "                                                        n_bootstrap=n_bootstrap)\n",
    "\n",
    "\n",
    "plt.hist(x_resampled_means, bins=50)\n",
    "plt.title(\"Histogram of Means of Resampled Data\")\n",
    "plt.show()"
   ]
  },
  {
   "cell_type": "markdown",
   "metadata": {},
   "source": [
    "The figure above looks quite Gaussian!"
   ]
  },
  {
   "cell_type": "markdown",
   "metadata": {},
   "source": [
    "### Comparison"
   ]
  },
  {
   "cell_type": "code",
   "execution_count": 12,
   "metadata": {},
   "outputs": [
    {
     "name": "stdout",
     "output_type": "stream",
     "text": [
      "Samples Mean          : 187.2911  Samples Std             : 64.4302\n",
      "Bootstrap Mean        : 187.2920  Bootstrap Std           : 6.8546\n",
      " \n",
      "Left Bound-Pivotal    : 173.8569  Right Bound-Pivotal     : 200.7271\n",
      "Left Bound-Non Pivotal: 173.8478  Right Bound-Non Pivotal : 200.6712\n"
     ]
    }
   ],
   "source": [
    "print(\"Samples Mean          : %.4f\" % mean_samples,\n",
    "      \" Samples Std             : %.4f\" % std_samples)\n",
    "\n",
    "print(\"Bootstrap Mean        : %.4f\" % x_boots_mean, \n",
    "      \" Bootstrap Std           : %.4f\" % x_boots_std)\n",
    "\n",
    "print(\" \")\n",
    "\n",
    "print(\"Left Bound-Pivotal    : %.4f\" % x_lbp, \n",
    "      \" Right Bound-Pivotal     : %.4f\" % x_rbp)\n",
    "\n",
    "print(\"Left Bound-Non Pivotal: %.4f\" % x_lbn,\n",
    "      \" Right Bound-Non Pivotal : %.4f\" % x_rbn)"
   ]
  },
  {
   "cell_type": "markdown",
   "metadata": {},
   "source": [
    "#### conslusion:\n",
    "\n",
    "As one can see the original sample means relies between the left and right boundries both in pivotal and not pivotal methods."
   ]
  },
  {
   "cell_type": "markdown",
   "metadata": {},
   "source": [
    "# clustering"
   ]
  },
  {
   "cell_type": "markdown",
   "metadata": {},
   "source": [
    "### data normalization"
   ]
  },
  {
   "cell_type": "code",
   "execution_count": 13,
   "metadata": {},
   "outputs": [],
   "source": [
    "x_zscr_std, x_rng_std = standardizer(x=data)"
   ]
  },
  {
   "cell_type": "markdown",
   "metadata": {},
   "source": [
    "### Apply KMeans clustering Algorithm"
   ]
  },
  {
   "cell_type": "code",
   "execution_count": null,
   "metadata": {},
   "outputs": [],
   "source": [
    "# n_repeats = 10\n",
    "# tmp_idx = np.random.randint(0, data.shape[0], n_repeats)\n",
    "# centers = [x_zscr_std[idx, :] for idx in tmp_idx]\n",
    "# centers = np.asarray(centers)\n",
    "# n_clusters = 4"
   ]
  },
  {
   "cell_type": "code",
   "execution_count": 14,
   "metadata": {},
   "outputs": [],
   "source": [
    "n_clusters =  3\n",
    "n_repeats = 10\n",
    "clusters_1, best_clusters_1, indices_1, best_indices_1,\\\n",
    "cluster_means_1, best_cluster_means_1,\\\n",
    "differences_1, rel_differences_1, \\\n",
    "best_differences_1, best_rel_differences_1, \\\n",
    "inertia_1, best_intertia_1 = apply_kmeans(x_org=data, \n",
    "                                          n_clusters=n_clusters,\n",
    "                                          n_repeats=n_repeats, \n",
    "                                          std_method='z')"
   ]
  },
  {
   "cell_type": "markdown",
   "metadata": {},
   "source": [
    "Let us investigate the cluster means and chose two clusters in which they have similar means"
   ]
  },
  {
   "cell_type": "code",
   "execution_count": 15,
   "metadata": {},
   "outputs": [
    {
     "data": {
      "image/png": "[encoded data removed]",
      "text/plain": [
       "<Figure size 432x288 with 1 Axes>"
      ]
     },
     "metadata": {
      "needs_background": "light"
     },
     "output_type": "display_data"
    }
   ],
   "source": [
    "c1_resampled_means, c1_resampled_stds, c1_boots_mean, \\\n",
    "c1_boots_std, c1_lbp, c1_rbp, c1_lbn, c1_rbn = bootstrapping(x=x, \n",
    "                                                             x_idx=best_indices_1[1],\n",
    "                                                             n_resample=n_resample, \n",
    "                                                             n_bootstrap=n_bootstrap)\n",
    "\n",
    "plt.hist(c1_resampled_means, bins=50)\n",
    "plt.title(\"Histogram of Means of Resampled Data of 1st Cluster \")\n",
    "plt.show()"
   ]
  },
  {
   "cell_type": "code",
   "execution_count": 16,
   "metadata": {},
   "outputs": [
    {
     "data": {
      "image/png": "[encoded data removed]",
      "text/plain": [
       "<Figure size 432x288 with 1 Axes>"
      ]
     },
     "metadata": {
      "needs_background": "light"
     },
     "output_type": "display_data"
    }
   ],
   "source": [
    "c2_resampled_means, c2_resampled_stds, c2_boots_mean, \\\n",
    "c2_boots_std, c2_lbp, c2_rbp, c2_lbn, c2_rbn = bootstrapping(x=x,\n",
    "                                                             x_idx=best_indices_1[2],\n",
    "                                                             n_resample=n_resample,\n",
    "                                                             n_bootstrap=n_bootstrap)\n",
    "\n",
    "plt.hist(c2_resampled_means, bins=50)\n",
    "plt.title(\"Histogram of Means of Resampled Data of 2nd Cluster \")\n",
    "plt.show()"
   ]
  },
  {
   "cell_type": "code",
   "execution_count": 17,
   "metadata": {},
   "outputs": [],
   "source": [
    "# Difference between 1st and 2nd cluster\n",
    "d12 = np.subtract(np.asarray(c1_resampled_means), np.asarray(c2_resampled_means))  \n",
    "# Difference between 1st and x\n",
    "d1x = np.subtract(np.asarray(c1_resampled_means), np.asarray(x_resampled_means))  \n",
    "# Difference between 1st and x\n",
    "d2x = np.subtract(np.asarray(c2_resampled_means), np.asarray(x_resampled_means))  "
   ]
  },
  {
   "cell_type": "code",
   "execution_count": 18,
   "metadata": {},
   "outputs": [
    {
     "data": {
      "image/png": "[encoded data removed]",
      "text/plain": [
       "<Figure size 1404x684 with 5 Axes>"
      ]
     },
     "metadata": {
      "needs_background": "light"
     },
     "output_type": "display_data"
    }
   ],
   "source": [
    "fig = plt.figure(figsize=(19.5, 9.5))\n",
    "\n",
    "ax = fig.add_subplot(151)\n",
    "plt.hist(x, bins=20)\n",
    "plt.title(\"Ramdom Samples\")\n",
    "\n",
    "\n",
    "ax = fig.add_subplot(152)\n",
    "plt.hist(x_resampled_means, bins=50)\n",
    "plt.title(\"Means of Resampled\")\n",
    "\n",
    "ax = fig.add_subplot(153)\n",
    "plt.hist(c1_resampled_means, bins=50)\n",
    "plt.title(\"Means of Resampled of 1st Cluster \")\n",
    "\n",
    "ax = fig.add_subplot(154)\n",
    "plt.hist(c2_resampled_means, bins=50)\n",
    "plt.title(\"Means of Resampled of 2nd Cluster \")\n",
    "\n",
    "ax = fig.add_subplot(155)\n",
    "plt.hist(d12, bins=50)\n",
    "plt.title(\"c1_rs_means - c2_rs_means\")  # rs stands for resampled data\n",
    "plt.show()"
   ]
  },
  {
   "cell_type": "code",
   "execution_count": 19,
   "metadata": {},
   "outputs": [
    {
     "data": {
      "image/png": "[encoded data removed]",
      "text/plain": [
       "<Figure size 1404x684 with 5 Axes>"
      ]
     },
     "metadata": {
      "needs_background": "light"
     },
     "output_type": "display_data"
    }
   ],
   "source": [
    "fig = plt.figure(figsize=(19.5, 9.5))\n",
    "\n",
    "ax = fig.add_subplot(151)\n",
    "plt.hist(x, bins=20)\n",
    "plt.title(\"Ramdom Samples\")\n",
    "\n",
    "ax = fig.add_subplot(152)\n",
    "plt.hist(x_resampled_means, bins=50)\n",
    "plt.title(\"Means of Resampled\")\n",
    "\n",
    "ax = fig.add_subplot(153)\n",
    "plt.hist(c1_resampled_means, bins=50)\n",
    "plt.title(\"Means of Resampled of 1st Cluster \")\n",
    "\n",
    "ax = fig.add_subplot(154)\n",
    "plt.hist(d1x, bins=50)\n",
    "plt.title(\"c1_rs_means - x_rs_means\")  # rs stands for resampled data\n",
    "\n",
    "ax = fig.add_subplot(155)\n",
    "plt.hist(d2x, bins=50)\n",
    "plt.title(\"c2_rs_means - x_rs_means\")  # rs stands for resampled data\n",
    "plt.show()\n",
    "\n"
   ]
  },
  {
   "cell_type": "code",
   "execution_count": 20,
   "metadata": {},
   "outputs": [],
   "source": [
    "def check_zaro(lower, upper):\n",
    "    if lower <= 0. <= upper:        \n",
    "        return True\n",
    "    return False"
   ]
  },
  {
   "cell_type": "code",
   "execution_count": 21,
   "metadata": {},
   "outputs": [
    {
     "name": "stdout",
     "output_type": "stream",
     "text": [
      "lbp_d12: nan: rbp_d12:nan Zero in confidence interval: False\n",
      "lbn_d12: nan: rbn_d12: nan Zero in confidence interval: False\n"
     ]
    }
   ],
   "source": [
    "lbp_d12, rbp_d12, lbn_d12, rbn_d12, _ , _ = compute_confidence(resampled_means=d12)\n",
    "\n",
    "print(\"lbp_d12: %.4f:\" % lbp_d12, \n",
    "      \"rbp_d12:%.4f\" % rbp_d12, \"Zero in confidence interval:\",\n",
    "      check_zaro(lbp_d12, rbp_d12))\n",
    "\n",
    "print(\"lbn_d12: %.4f:\" %lbn_d12,\n",
    "      \"rbn_d12: %.4f\" % rbn_d12,\n",
    "      \"Zero in confidence interval:\",\n",
    "      check_zaro(lbn_d12, rbn_d12))"
   ]
  },
  {
   "cell_type": "code",
   "execution_count": 22,
   "metadata": {},
   "outputs": [
    {
     "data": {
      "text/plain": [
       "(nan, nan, 71.95725956284156, 108.7078050314465)"
      ]
     },
     "execution_count": 22,
     "metadata": {},
     "output_type": "execute_result"
    }
   ],
   "source": [
    "c1_lbp-c2_lbp, c1_rbp-c2_rbp, c1_lbn-c2_lbn, c1_rbn-c2_rbn"
   ]
  },
  {
   "cell_type": "markdown",
   "metadata": {},
   "source": [
    "### Conclusion\n",
    "\n",
    "one of the means is greater than the other!"
   ]
  },
  {
   "cell_type": "code",
   "execution_count": 24,
   "metadata": {},
   "outputs": [
    {
     "name": "stdout",
     "output_type": "stream",
     "text": [
      "lbp_d1x: nan: rbp_d1x:nan Zero in confidence interval: False\n",
      "lbn_d1x: nan: rbn_d1x: nan Zero in confidence interval: False\n"
     ]
    }
   ],
   "source": [
    "lbp_d1x, rbp_d1x, lbn_d1x, rbn_d1x, _ , _ = compute_confidence(resampled_means=d1x)\n",
    "\n",
    "print(\"lbp_d1x: %.4f:\" % lbp_d1x,\n",
    "      \"rbp_d1x:%.4f\" % rbp_d1x, \n",
    "      \"Zero in confidence interval:\", \n",
    "      check_zaro(lbp_d1x, rbp_d1x))\n",
    "print(\"lbn_d1x: %.4f:\" %lbn_d1x,\n",
    "      \"rbn_d1x: %.4f\" % rbn_d1x, \n",
    "      \"Zero in confidence interval:\", check_zaro(lbn_d1x, rbn_d1x))"
   ]
  },
  {
   "cell_type": "code",
   "execution_count": 25,
   "metadata": {},
   "outputs": [
    {
     "name": "stdout",
     "output_type": "stream",
     "text": [
      "lbp_d2x: 17.7353: rbp_d2x:6.5645 Zero in confidence interval: False\n",
      "lbn_d2x: 4.8689: rbn_d2x: 30.6017 Zero in confidence interval: False\n"
     ]
    }
   ],
   "source": [
    "lbp_d2x, rbp_d2x, lbn_d2x, rbn_d2x, _ , _ = compute_confidence(resampled_means=d2x)\n",
    "\n",
    "print(\"lbp_d2x: %.4f:\" % lbp_d2x, \n",
    "      \"rbp_d2x:%.4f\" % rbp_d2x, \n",
    "      \"Zero in confidence interval:\", \n",
    "      check_zaro(lbp_d2x, rbp_d2x))\n",
    "print(\"lbn_d2x: %.4f:\" %lbn_d2x,\n",
    "      \"rbn_d2x: %.4f\" % rbn_d2x, \n",
    "      \"Zero in confidence interval:\", check_zaro(lbn_d2x, rbn_d2x))"
   ]
  },
  {
   "cell_type": "markdown",
   "metadata": {},
   "source": [
    "### going furthure\n"
   ]
  },
  {
   "cell_type": "code",
   "execution_count": 26,
   "metadata": {},
   "outputs": [
    {
     "name": "stdout",
     "output_type": "stream",
     "text": [
      "Samples Mean       : 187.2911  Samples Std             : 64.4302\n",
      "Bootstrap Mean     : 187.2920  Bootstrap Std           : 6.8546\n",
      " \n",
      "x  Left Bound-Pivotal : 173.8569 x   Right Bound-Pivotal     : 200.7271\n",
      "c1 Left Bound-Pivotal : nan c1  Right Bound-Pivotal     : nan\n",
      "c2 Left Bound-Pivotal : 197.8822 c2  Right Bound-Pivotal     : 212.1723\n",
      " \n",
      "x Left Bound-Non Pivotal: 173.8478 x  Right Bound-Non Pivotal : 200.6712\n",
      "c1 Left Bound-Non Pivotal: 269.8008 c1 Right Bound-Non Pivotal : 321.0453\n",
      "c2 Left Bound-Non Pivotal: 197.8436 c2 Right Bound-Non Pivotal : 212.3375\n"
     ]
    }
   ],
   "source": [
    "print(\"Samples Mean       : %.4f\" % mean_samples, \n",
    "      \" Samples Std             : %.4f\" % std_samples)\n",
    "\n",
    "print(\"Bootstrap Mean     : %.4f\" % x_boots_mean, \n",
    "      \" Bootstrap Std           : %.4f\" % x_boots_std)\n",
    "print(\" \")\n",
    "print(\"x  Left Bound-Pivotal : %.4f\" % x_lbp, \"x   Right Bound-Pivotal     : %.4f\" % x_rbp)\n",
    "print(\"c1 Left Bound-Pivotal : %.4f\" % c1_lbp, \"c1  Right Bound-Pivotal     : %.4f\" % c1_rbp)\n",
    "print(\"c2 Left Bound-Pivotal : %.4f\" % c2_lbp, \"c2  Right Bound-Pivotal     : %.4f\" % c2_rbp)\n",
    "print(\" \")\n",
    "\n",
    "print(\"x Left Bound-Non Pivotal: %.4f\" % x_lbn, \"x  Right Bound-Non Pivotal : %.4f\" % x_rbn)\n",
    "print(\"c1 Left Bound-Non Pivotal: %.4f\" % c1_lbn, \"c1 Right Bound-Non Pivotal : %.4f\" % c1_rbn)\n",
    "print(\"c2 Left Bound-Non Pivotal: %.4f\" % c2_lbn, \"c2 Right Bound-Non Pivotal : %.4f\" % c2_rbn)"
   ]
  },
  {
   "cell_type": "code",
   "execution_count": null,
   "metadata": {},
   "outputs": [],
   "source": []
  },
  {
   "cell_type": "code",
   "execution_count": null,
   "metadata": {},
   "outputs": [],
   "source": []
  },
  {
   "cell_type": "code",
   "execution_count": null,
   "metadata": {},
   "outputs": [],
   "source": []
  },
  {
   "cell_type": "code",
   "execution_count": null,
   "metadata": {},
   "outputs": [],
   "source": []
  },
  {
   "cell_type": "code",
   "execution_count": null,
   "metadata": {},
   "outputs": [],
   "source": []
  }
 ],
 "metadata": {
  "kernelspec": {
   "display_name": "Python 3",
   "language": "python",
   "name": "python3"
  },
  "language_info": {
   "codemirror_mode": {
    "name": "ipython",
    "version": 3
   },
   "file_extension": ".py",
   "mimetype": "text/x-python",
   "name": "python",
   "nbconvert_exporter": "python",
   "pygments_lexer": "ipython3",
   "version": "3.8.3"
  }
 },
 "nbformat": 4,
 "nbformat_minor": 2
}
