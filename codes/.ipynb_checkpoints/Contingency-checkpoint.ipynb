{
 "cells": [
  {
   "cell_type": "code",
   "execution_count": 6,
   "metadata": {},
   "outputs": [],
   "source": [
    "import warnings\n",
    "import numpy as np\n",
    "import pandas as pd\n",
    "from scipy import sparse as sp\n",
    "import matplotlib.pyplot as plt\n",
    "from matplotlib.backends.backend_pdf import PdfPages"
   ]
  },
  {
   "cell_type": "code",
   "execution_count": 7,
   "metadata": {},
   "outputs": [],
   "source": [
    "warnings.filterwarnings('ignore')\n",
    "np.set_printoptions(suppress=True, precision=3, linewidth=250)"
   ]
  },
  {
   "cell_type": "markdown",
   "metadata": {},
   "source": [
    "### Loading Data set"
   ]
  },
  {
   "cell_type": "code",
   "execution_count": 8,
   "metadata": {},
   "outputs": [
    {
     "name": "stdout",
     "output_type": "stream",
     "text": [
      "number of entities: 91 , number of features: 5\n"
     ]
    }
   ],
   "source": [
    "x = np.loadtxt(\"../data/rin.dat\")  #  data matrix\n",
    "\n",
    "print(\"number of entities:\", x.shape[0], \", number of features:\", x.shape[1])\n",
    "\n",
    "with open(\"../data/namrin\", 'r') as fp:  # load names as list of string\n",
    "    names_ = fp.readlines()\n",
    "\n",
    "with open(\"../data/varrin\", 'r') as fp:  # load features names as list of string\n",
    "    features_ = fp.readlines()"
   ]
  },
  {
   "cell_type": "markdown",
   "metadata": {},
   "source": [
    "### Creating Pandas DataFrame for Visualization\n"
   ]
  },
  {
   "cell_type": "code",
   "execution_count": 9,
   "metadata": {},
   "outputs": [],
   "source": [
    "names = [name.strip() for name in names_]\n",
    "features = [feature.strip().split(\",\")[0] for feature in features_]\n",
    "# features"
   ]
  },
  {
   "cell_type": "code",
   "execution_count": 10,
   "metadata": {},
   "outputs": [],
   "source": [
    "# df = pd.DataFrame(data=x, columns=features[:-1], index=names[1:])\n",
    "# df.head()"
   ]
  },
  {
   "cell_type": "markdown",
   "metadata": {},
   "source": [
    "#####  Nominal Features\n",
    "\n",
    "There are 8 synthetic names of larger entities consisting of regions following after them. These names are as follows:\n",
    "\n",
    "1:Central including Russia (20 entities altogether),\n",
    "\n",
    "2: NW+South\n",
    "\n",
    "3: Volga+Ural\n",
    "\n",
    "4: Sibir+Far East\n",
    "\n",
    "Four parts in total"
   ]
  },
  {
   "cell_type": "code",
   "execution_count": 11,
   "metadata": {},
   "outputs": [],
   "source": [
    "# parts_names = [\"'Central'\", \"'NW'\", \"'South'\", \"'Volga'\", \"'Ural'\", \"'Sibir'\", \"'FarEast'\"]\n",
    "parts_names = [\"'Central'\", \"'NW'\", \"'Volga'\", \"'Sibir'\", ]"
   ]
  },
  {
   "cell_type": "code",
   "execution_count": 12,
   "metadata": {},
   "outputs": [
    {
     "data": {
      "text/plain": [
       "[0, 19, 47, 67]"
      ]
     },
     "execution_count": 12,
     "metadata": {},
     "output_type": "execute_result"
    }
   ],
   "source": [
    "parts_indices = [names.index(pn)-1 for pn in parts_names]\n",
    "parts_indices"
   ]
  },
  {
   "cell_type": "markdown",
   "metadata": {},
   "source": [
    "### Categorizing two features\n",
    "We consider the first and the last features, that is Internet abonents and Volume of information"
   ]
  },
  {
   "cell_type": "code",
   "execution_count": 13,
   "metadata": {},
   "outputs": [
    {
     "data": {
      "image/png": "[encoded data removed]",
      "text/plain": [
       "<Figure size 432x288 with 1 Axes>"
      ]
     },
     "metadata": {
      "needs_background": "light"
     },
     "output_type": "display_data"
    }
   ],
   "source": [
    "# number of bins is square root of number of entities in the data set\n",
    "# range is (x.min(), x.max())\n",
    "plt.hist(x[:, 0],int(np.round(np.sqrt(x.shape[0]))))\n",
    "plt.title(\"Histogram of first feature\")\n",
    "plt.show()"
   ]
  },
  {
   "cell_type": "markdown",
   "metadata": {},
   "source": [
    "boundaries for four categories of first feature : \n",
    "\n",
    "[0, 150, 200, 250, 350]\n",
    "\n",
    "Note: make the axis labels larger\n"
   ]
  },
  {
   "cell_type": "markdown",
   "metadata": {},
   "source": [
    "boundaries for categorization of first feature : \n",
    "\n",
    "[0, 150, 200, 250, 350]\n"
   ]
  },
  {
   "cell_type": "code",
   "execution_count": 15,
   "metadata": {},
   "outputs": [
    {
     "data": {
      "image/png": "[encoded data removed]",
      "text/plain": [
       "<Figure size 432x288 with 1 Axes>"
      ]
     },
     "metadata": {
      "needs_background": "light"
     },
     "output_type": "display_data"
    }
   ],
   "source": [
    "plt.hist(x[:, -1], bins=int(np.round(np.sqrt(x.shape[0]))))\n",
    "plt.title(\"Histogram of last feature\")\n",
    "plt.show()"
   ]
  },
  {
   "cell_type": "markdown",
   "metadata": {},
   "source": [
    "boundaries for categorization of last feature:\n",
    "\n",
    "[0, 85, 250, 700]\n"
   ]
  },
  {
   "cell_type": "markdown",
   "metadata": {},
   "source": [
    "### Part 1, Consider three nominal features \n",
    "one of them, not more, may be taken from nominal features in your data:"
   ]
  },
  {
   "cell_type": "code",
   "execution_count": 14,
   "metadata": {},
   "outputs": [
    {
     "data": {
      "text/plain": [
       "[0, 19, 47, 67]"
      ]
     },
     "execution_count": 14,
     "metadata": {},
     "output_type": "execute_result"
    }
   ],
   "source": [
    "parts_indices"
   ]
  },
  {
   "cell_type": "code",
   "execution_count": 16,
   "metadata": {},
   "outputs": [
    {
     "name": "stdout",
     "output_type": "stream",
     "text": [
      "(91, 6)\n"
     ]
    }
   ],
   "source": [
    "# categorize version of x; the last columns for nominal feature\n",
    "x_c = np.zeros([x.shape[0], x.shape[1]+1])\n",
    "\n",
    "for i in range(x_c.shape[0]):\n",
    "    for v in range(x_c.shape[1]):\n",
    "        if v == 0:\n",
    "            if 0 <= x[i, v] < 150:\n",
    "                x_c[i, v] = 1\n",
    "            elif 150 <= x[i, v] < 200:\n",
    "                x_c[i, v] = 2\n",
    "            elif 200 <= x[i, v] < 250:\n",
    "                x_c[i, v] = 3\n",
    "            else:\n",
    "                x_c[i, v] = 4\n",
    "        if v == 4:\n",
    "            if 0 <= x[i, v] < 85:\n",
    "                x_c[i, v] = 1\n",
    "            elif 85 <= x[i, v] < 250:\n",
    "                x_c[i, v] = 2\n",
    "            else:\n",
    "                x_c[i, v] = 3\n",
    "        if v == 5:\n",
    "            if 0 <= i <= parts_indices[1]:\n",
    "                x_c[i,v] = 1\n",
    "            elif parts_indices[1] < i <= parts_indices[2]:\n",
    "                x_c[i,v] = 2\n",
    "            elif parts_indices[2] < i <= parts_indices[3]:\n",
    "                x_c[i,v] = 3\n",
    "            else:\n",
    "                x_c[i,v] = 4         \n",
    "        elif v!= 0 and v!=4 and v!=5:\n",
    "            x_c[i,v] = x[i,v]\n",
    "\n",
    "# G, H, T\n",
    "# x_categorical = x_c[:, [0, 4, 5]]  \n",
    "print(x_c.shape)"
   ]
  },
  {
   "cell_type": "markdown",
   "metadata": {},
   "source": [
    "So we created three nominal feature: G-regions (4 categories), H-number of abonents grouped (4 categories), T-volume grouped (3 categories)"
   ]
  },
  {
   "cell_type": "markdown",
   "metadata": {},
   "source": [
    "### Part 2: Contingency Tables\n",
    "##### Function for creating contingecy table"
   ]
  },
  {
   "cell_type": "code",
   "execution_count": 17,
   "metadata": {},
   "outputs": [],
   "source": [
    "def contingency_matrix(subset_1, subset_2):\n",
    "    \n",
    "    \"\"\"\n",
    "    A faster way to create a contingency table.\n",
    "    However this table is not intuitive\n",
    "    \"\"\"\n",
    "    cat_1, cat_1_idx = np.unique(subset_1, return_inverse=True)\n",
    "    cat_2, cat_2_idx = np.unique(subset_2, return_inverse=True)\n",
    "    n_cat_1 = cat_1.shape[0]\n",
    "    n_cat_2 = cat_2.shape[0]\n",
    "    # sp.coo_matrix:= A sparse matrix in COOrdinate format.\n",
    "    # Also known as the ‘ijv’ or ‘triplet’ format.\n",
    "    contingency = sp.coo_matrix((np.ones(cat_1_idx.shape[0]),\n",
    "                                (cat_1_idx, cat_2_idx)),\n",
    "                                shape=(n_cat_1, n_cat_2),\n",
    "                                dtype=np.int)\n",
    "    \n",
    "    contingency = contingency.toarray()\n",
    "    \n",
    "    return contingency\n",
    "    "
   ]
  },
  {
   "cell_type": "code",
   "execution_count": 18,
   "metadata": {},
   "outputs": [],
   "source": [
    "def contingency_table(subset_1, subset_2):\n",
    "    \n",
    "    \"\"\"\n",
    "    An slower way to create contingency table.\n",
    "    But this way is more intuitive\n",
    "    \"\"\"\n",
    "    \n",
    "    cat_1, cat_1_idx = np.unique(subset_1, return_inverse=True)\n",
    "    cat_2, cat_2_idx = np.unique(subset_2, return_inverse=True)\n",
    "    n_cat_1 = cat_1.shape[0]\n",
    "    n_cat_2 = cat_2.shape[0]\n",
    "    contingency = np.zeros([n_cat_1, n_cat_2], dtype=np.int)\n",
    "    for c_1 in range(n_cat_1):\n",
    "        for c_2 in range(n_cat_2):\n",
    "            contingency[c_1, c_2] = len(\n",
    "                set(np.where(cat_1_idx==c_1)\n",
    "                    [0].tolist()).intersection(\n",
    "                    set(np.where(cat_2_idx==c_2)[0].tolist())))\n",
    "\n",
    "    return contingency"
   ]
  },
  {
   "cell_type": "markdown",
   "metadata": {},
   "source": [
    "### Developing contingency tables P(T|G) and P(T|H):\n",
    "######  P(T|G)"
   ]
  },
  {
   "cell_type": "code",
   "execution_count": 24,
   "metadata": {},
   "outputs": [
    {
     "name": "stdout",
     "output_type": "stream",
     "text": [
      "contingency P(T|G): \n",
      " \n",
      " [[ 7  3  0  0]\n",
      " [13 23 27  3]\n",
      " [ 1  3  5  6]]\n"
     ]
    }
   ],
   "source": [
    "contingency_T_G = contingency_matrix(x_c[:, 4], x_c[:, 0])  # T given H\n",
    "print(\"contingency P(T|G):\", \"\\n \\n\",\n",
    "      contingency_T_G)"
   ]
  },
  {
   "cell_type": "markdown",
   "metadata": {},
   "source": [
    "###### P(H| T)"
   ]
  },
  {
   "cell_type": "code",
   "execution_count": 25,
   "metadata": {},
   "outputs": [
    {
     "name": "stdout",
     "output_type": "stream",
     "text": [
      "contingency P(T|H) : \n",
      " \n",
      " [[ 0  7  0  3]\n",
      " [17 17 19 13]\n",
      " [ 3  4  1  7]]\n"
     ]
    }
   ],
   "source": [
    "contingency_T_H = contingency_matrix(x_c[:, 4], x_c[:, 5])  # T given H\n",
    "print(\"contingency P(T|H) :\", \"\\n \\n\",\n",
    "      contingency_T_H)"
   ]
  },
  {
   "cell_type": "code",
   "execution_count": 65,
   "metadata": {},
   "outputs": [
    {
     "name": "stdout",
     "output_type": "stream",
     "text": [
      "[[10]\n",
      " [66]\n",
      " [15]]\n",
      " \n",
      "[21 29 32  9]\n"
     ]
    }
   ],
   "source": [
    "# marginal frequencies\n",
    "freq_of_G = np.sum(contingency_T_G, axis=0)  \n",
    "freq_of_T = np.sum(contingency_T_G, axis=1)\n",
    "freq_of_H = np.sum(contingency_T_G, axis=0) \n",
    "print(freq_of_T.reshape(-1, 1),)\n",
    "print(\" \")\n",
    "print(freq_of_G)\n"
   ]
  },
  {
   "cell_type": "markdown",
   "metadata": {},
   "source": [
    "#### Relative Frequenies \n",
    "relative_contingency_T_G = np.divide(contingency_T_G, x.shape[0])\n",
    "print(\"Relative T G:\", \"\\n \\n\", \n",
    "      relative_contingency_T_G)\n",
    "\n",
    "print(\" \")\n",
    "\n",
    "relative_contingency_T_H = np.divide(contingency_T_H, x.shape[0])\n",
    "print(\"Relative T H:\", \"\\n \\n\", \n",
    "      relative_contingency_T_H)"
   ]
  },
  {
   "cell_type": "markdown",
   "metadata": {},
   "source": [
    "#### Conditional Probabilities"
   ]
  },
  {
   "cell_type": "code",
   "execution_count": 30,
   "metadata": {},
   "outputs": [
    {
     "name": "stdout",
     "output_type": "stream",
     "text": [
      "Conditional T given G: \n",
      " \n",
      " [[0.333 0.103 0.    0.   ]\n",
      " [0.619 0.793 0.844 0.333]\n",
      " [0.048 0.103 0.156 0.667]]\n"
     ]
    }
   ],
   "source": [
    "conditional_T_G = np.divide(contingency_T_G, np.sum(contingency_T_G, axis=0))\n",
    "print(\"Conditional T given G:\", \"\\n \\n\",\n",
    "      conditional_T_G)"
   ]
  },
  {
   "cell_type": "markdown",
   "metadata": {},
   "source": [
    " As one can see:\n",
    "\n",
    "- T2 is likely at G1, G2, G3\n",
    "- T3 is likely at G4\n",
    "- Only one number is high enough, .844 = p(T2|G3)\n"
   ]
  },
  {
   "cell_type": "code",
   "execution_count": 32,
   "metadata": {},
   "outputs": [
    {
     "name": "stdout",
     "output_type": "stream",
     "text": [
      "Conditional T given H: \n",
      " \n",
      " [[0.    0.25  0.    0.13 ]\n",
      " [0.85  0.607 0.95  0.565]\n",
      " [0.15  0.143 0.05  0.304]]\n"
     ]
    }
   ],
   "source": [
    "conditional_T_H = np.divide(contingency_T_H, np.sum(contingency_T_H, axis=0))\n",
    "print(\"Conditional T given H:\", \"\\n \\n\",\n",
    "      conditional_T_H)"
   ]
  },
  {
   "cell_type": "markdown",
   "metadata": {},
   "source": [
    " As one can see:\n",
    "\n",
    "- T2 is likely at all H, especially H1, H3\n",
    "- Two high values are P(T2|H1)=.85 and P(T2|H3) = .95\n",
    "\n"
   ]
  },
  {
   "cell_type": "markdown",
   "metadata": {},
   "source": [
    "### quetelet (T|G)"
   ]
  },
  {
   "cell_type": "code",
   "execution_count": 33,
   "metadata": {},
   "outputs": [
    {
     "data": {
      "text/plain": [
       "array([[ 2.033, -0.059, -1.   , -1.   ],\n",
       "       [-0.146,  0.094,  0.163, -0.54 ],\n",
       "       [-0.711, -0.372, -0.052,  3.044]])"
      ]
     },
     "execution_count": 33,
     "metadata": {},
     "output_type": "execute_result"
    }
   ],
   "source": [
    "prob_of_T = freq_of_T/x.shape[0]\n",
    "\n",
    "quetelet_T_G = np.divide(np.subtract(conditional_T_G, prob_of_T.reshape(-1, 1)), \n",
    "                         prob_of_T.reshape(-1, 1))\n",
    "\n",
    "quetelet_T_G"
   ]
  },
  {
   "cell_type": "markdown",
   "metadata": {},
   "source": [
    "- Big positive numbers q(T1 | G1) = 203% and q(T3|G4) = 304% these are the relative increases of the probabilities."
   ]
  },
  {
   "cell_type": "code",
   "execution_count": 35,
   "metadata": {},
   "outputs": [
    {
     "data": {
      "text/plain": [
       "array([[-1.   ,  1.275, -1.   ,  0.187],\n",
       "       [ 0.172, -0.163,  0.31 , -0.221],\n",
       "       [-0.09 , -0.133, -0.697,  0.846]])"
      ]
     },
     "execution_count": 35,
     "metadata": {},
     "output_type": "execute_result"
    }
   ],
   "source": [
    "prob_of_T = freq_of_T/x.shape[0]\n",
    "\n",
    "quetelet_T_H = np.divide(np.subtract(conditional_T_H, prob_of_T.reshape(-1, 1)), \n",
    "                         prob_of_T.reshape(-1, 1))\n",
    "\n",
    "quetelet_T_H"
   ]
  },
  {
   "cell_type": "markdown",
   "metadata": {},
   "source": [
    "- Relatively big positive numbers q(T1 | H2) = 127% and q(T3|H4) = 85% these are the relative increases of the probabilities."
   ]
  },
  {
   "cell_type": "code",
   "execution_count": null,
   "metadata": {},
   "outputs": [],
   "source": [
    "### Another way for computing Quetelet index "
   ]
  },
  {
   "cell_type": "markdown",
   "metadata": {},
   "source": [
    "### Statistical independence"
   ]
  },
  {
   "cell_type": "code",
   "execution_count": 59,
   "metadata": {},
   "outputs": [],
   "source": [
    "# contingency_G_H = contingency_matrix(x_c[:, 4], x_c[:, 0])\n",
    "# relative_G_H = np.divide(contingency_G_H, x.shape[0])\n",
    "# for r in range(relative_G_H.shape[0]):\n",
    "#     print(relative_G_H[r, :], np.sum(relative_G_H[r, :]))\n",
    "# print(np.sum(relative_G_H, axis=0), np.sum(np.sum(relative_G_H, axis=1)))"
   ]
  },
  {
   "cell_type": "code",
   "execution_count": 60,
   "metadata": {},
   "outputs": [
    {
     "data": {
      "text/plain": [
       "array([0.11 , 0.725, 0.165])"
      ]
     },
     "execution_count": 60,
     "metadata": {},
     "output_type": "execute_result"
    }
   ],
   "source": [
    "freq_of_T "
   ]
  },
  {
   "cell_type": "code",
   "execution_count": null,
   "metadata": {},
   "outputs": [],
   "source": [
    "independent "
   ]
  },
  {
   "cell_type": "markdown",
   "metadata": {},
   "source": [
    "### Quetelet-index "
   ]
  },
  {
   "cell_type": "code",
   "execution_count": 53,
   "metadata": {},
   "outputs": [
    {
     "data": {
      "text/plain": [
       "array([[-1.   ],\n",
       "       [ 1.275],\n",
       "       [-1.   ],\n",
       "       [ 0.187],\n",
       "       [ 0.172],\n",
       "       [-0.163],\n",
       "       [ 0.31 ],\n",
       "       [-0.221],\n",
       "       [-0.09 ],\n",
       "       [-0.133],\n",
       "       [-0.697],\n",
       "       [ 0.846]])"
      ]
     },
     "execution_count": 53,
     "metadata": {},
     "output_type": "execute_result"
    }
   ],
   "source": [
    "quetelet_T_G.reshape(-1, 1)\n",
    "quetelet_T_H.reshape(-1, 1)"
   ]
  },
  {
   "cell_type": "code",
   "execution_count": 52,
   "metadata": {},
   "outputs": [
    {
     "data": {
      "text/plain": [
       "array([[0.   ],\n",
       "       [0.077],\n",
       "       [0.   ],\n",
       "       [0.033],\n",
       "       [0.187],\n",
       "       [0.187],\n",
       "       [0.209],\n",
       "       [0.143],\n",
       "       [0.033],\n",
       "       [0.044],\n",
       "       [0.011],\n",
       "       [0.077]])"
      ]
     },
     "execution_count": 52,
     "metadata": {},
     "output_type": "execute_result"
    }
   ],
   "source": [
    "(contingency_T_G/ x.shape[0]).reshape(-1, 1)\n",
    "(contingency_T_H/ x.shape[0]).reshape(-1, 1)\n"
   ]
  },
  {
   "cell_type": "code",
   "execution_count": null,
   "metadata": {},
   "outputs": [],
   "source": [
    "quetelet_T_G.reshape(-1, 1) "
   ]
  },
  {
   "cell_type": "code",
   "execution_count": 54,
   "metadata": {},
   "outputs": [],
   "source": [
    "quet_idx_T_G = np.sum(quetelet_T_G.reshape(-1, 1)*(contingency_T_G/ x.shape[0]).reshape(-1, 1))\n",
    "\n",
    "quet_idx_T_H = np.sum(quetelet_T_H.reshape(-1, 1)*(contingency_T_H/ x.shape[0]).reshape(-1, 1))\n"
   ]
  },
  {
   "cell_type": "code",
   "execution_count": 56,
   "metadata": {},
   "outputs": [
    {
     "data": {
      "text/plain": [
       "(0.3656222010747874, 0.18772821381517035)"
      ]
     },
     "execution_count": 56,
     "metadata": {},
     "output_type": "execute_result"
    }
   ],
   "source": [
    "quet_idx_T_G, quet_idx_T_H"
   ]
  },
  {
   "cell_type": "code",
   "execution_count": null,
   "metadata": {},
   "outputs": [],
   "source": [
    "chi_sqr = conditional_T_G - relative_"
   ]
  },
  {
   "cell_type": "code",
   "execution_count": null,
   "metadata": {},
   "outputs": [],
   "source": []
  },
  {
   "cell_type": "code",
   "execution_count": 24,
   "metadata": {},
   "outputs": [
    {
     "name": "stdout",
     "output_type": "stream",
     "text": [
      "contingency T >> H: \n",
      " \n",
      " [[ 0 17  3]\n",
      " [ 7 17  4]\n",
      " [ 0 19  1]\n",
      " [ 3 13  7]]\n"
     ]
    }
   ],
   "source": [
    "contingency_T_H = contingency_matrix(x_c[:, 5], x_c[:, 4])  # T given H\n",
    "print(\"contingency T >> H:\", \"\\n \\n\",\n",
    "      contingency_T_H)"
   ]
  },
  {
   "cell_type": "markdown",
   "metadata": {},
   "source": [
    "- Rows:  T_1, ..., T_4 and\n",
    "- Columns: H_1, ..., H_3"
   ]
  },
  {
   "cell_type": "markdown",
   "metadata": {},
   "source": [
    "#### Relative Frequenies "
   ]
  },
  {
   "cell_type": "code",
   "execution_count": 52,
   "metadata": {},
   "outputs": [
    {
     "name": "stdout",
     "output_type": "stream",
     "text": [
      "Relative T G: \n",
      " \n",
      " [[0.011 0.077 0.11  0.022]\n",
      " [0.143 0.055 0.066 0.044]\n",
      " [0.    0.055 0.143 0.022]\n",
      " [0.077 0.132 0.033 0.011]]\n",
      " \n",
      "Relative T H: \n",
      " \n",
      " [[0.    0.187 0.033]\n",
      " [0.077 0.187 0.044]\n",
      " [0.    0.209 0.011]\n",
      " [0.033 0.143 0.077]]\n"
     ]
    }
   ],
   "source": [
    "relative_contingency_T_G = np.divide(contingency_T_G, x.shape[0])\n",
    "print(\"Relative T G:\", \"\\n \\n\", \n",
    "      relative_contingency_T_G)\n",
    "\n",
    "print(\" \")\n",
    "\n",
    "relative_contingency_T_H = np.divide(contingency_T_H, x.shape[0])\n",
    "print(\"Relative T H:\", \"\\n \\n\", \n",
    "      relative_contingency_T_H)"
   ]
  },
  {
   "cell_type": "markdown",
   "metadata": {},
   "source": [
    "#### Conditional Probabilities"
   ]
  },
  {
   "cell_type": "code",
   "execution_count": 26,
   "metadata": {},
   "outputs": [
    {
     "name": "stdout",
     "output_type": "stream",
     "text": [
      "Conditional T give G: \n",
      " \n",
      " [[0.048 0.241 0.312 0.222]\n",
      " [0.619 0.172 0.188 0.444]\n",
      " [0.    0.172 0.406 0.222]\n",
      " [0.333 0.414 0.094 0.111]]\n"
     ]
    }
   ],
   "source": [
    "conditional_T_G = np.divide(contingency_T_G, np.sum(contingency_T_G, axis=0))\n",
    "print(\"Conditional T give G:\", \"\\n \\n\",\n",
    "      conditional_T_G)"
   ]
  },
  {
   "cell_type": "markdown",
   "metadata": {},
   "source": [
    " As one can see:\n",
    "\n",
    "- Low conditional probability for T1 given G1.\n",
    "- High conditional probability for T2 given G1.\n",
    "- Zero conditional probability for T3 given G1.\n",
    "- Low conditional probability for T4 given G3.\n",
    "- The rest are not that informative\n"
   ]
  },
  {
   "cell_type": "code",
   "execution_count": 27,
   "metadata": {},
   "outputs": [
    {
     "name": "stdout",
     "output_type": "stream",
     "text": [
      "Conditional T give H: \n",
      " \n",
      " [[0.    0.258 0.2  ]\n",
      " [0.7   0.258 0.267]\n",
      " [0.    0.288 0.067]\n",
      " [0.3   0.197 0.467]]\n"
     ]
    }
   ],
   "source": [
    "conditional_T_H = np.divide(contingency_T_H, np.sum(contingency_T_H, axis=0))\n",
    "print(\"Conditional T give H:\", \"\\n \\n\",\n",
    "      conditional_T_H)"
   ]
  },
  {
   "cell_type": "markdown",
   "metadata": {},
   "source": [
    " As one can see:\n",
    "\n",
    "- zero conditional probabilities for T1, T3 given H1.\n",
    "- High conditional probability for T2 given H1.\n",
    "- Low conditional probabilities for T3 given H3.\n",
    "- The rest are not that informative"
   ]
  },
  {
   "cell_type": "markdown",
   "metadata": {},
   "source": [
    "### Statistical independence"
   ]
  },
  {
   "cell_type": "code",
   "execution_count": 53,
   "metadata": {},
   "outputs": [
    {
     "name": "stdout",
     "output_type": "stream",
     "text": [
      "[0.077 0.143 0.011] 0.23076923076923075\n",
      "[0.033 0.253 0.033] 0.31868131868131866\n",
      "[0.    0.297 0.055] 0.3516483516483516\n",
      "[0.    0.033 0.066] 0.09890109890109891\n",
      "[0.11  0.725 0.165] 0.9999999999999999\n"
     ]
    }
   ],
   "source": [
    "contingency_G_H = contingency_matrix(x_c[:, 0], x_c[:, 4])\n",
    "relative_G_H = np.divide(contingency_G_H, x.shape[0])\n",
    "for r in range(relative_G_H.shape[0]):\n",
    "    print(relative_G_H[r, :], np.sum(relative_G_H[r, :]))\n",
    "print(np.sum(relative_G_H, axis=0), np.sum(np.sum(relative_G_H, axis=1)))"
   ]
  },
  {
   "cell_type": "markdown",
   "metadata": {},
   "source": [
    "- Rows: G_1, ..., G_4, total G\n",
    "- Columns: H_1, ..., H_3, total H"
   ]
  },
  {
   "cell_type": "code",
   "execution_count": null,
   "metadata": {},
   "outputs": [],
   "source": []
  },
  {
   "cell_type": "code",
   "execution_count": null,
   "metadata": {},
   "outputs": [],
   "source": []
  }
 ],
 "metadata": {
  "kernelspec": {
   "display_name": "Python 3",
   "language": "python",
   "name": "python3"
  },
  "language_info": {
   "codemirror_mode": {
    "name": "ipython",
    "version": 3
   },
   "file_extension": ".py",
   "mimetype": "text/x-python",
   "name": "python",
   "nbconvert_exporter": "python",
   "pygments_lexer": "ipython3",
   "version": "3.8.3"
  }
 },
 "nbformat": 4,
 "nbformat_minor": 2
}
